{
 "cells": [
  {
   "cell_type": "code",
   "execution_count": 2,
   "metadata": {},
   "outputs": [
    {
     "name": "stdout",
     "output_type": "stream",
     "text": [
      "                                   Product_Service Category\n",
      "0                                    Durable goods      ???\n",
      "1                                            Goods      ???\n",
      "2                             Household operations      ???\n",
      "3  Household operations, furnishings and equipment      ???\n",
      "4                        Housing (1986 definition)      ???\n"
     ]
    },
    {
     "data": {
      "text/html": [
       "<div>\n",
       "<style scoped>\n",
       "    .dataframe tbody tr th:only-of-type {\n",
       "        vertical-align: middle;\n",
       "    }\n",
       "\n",
       "    .dataframe tbody tr th {\n",
       "        vertical-align: top;\n",
       "    }\n",
       "\n",
       "    .dataframe thead th {\n",
       "        text-align: right;\n",
       "    }\n",
       "</style>\n",
       "<table border=\"1\" class=\"dataframe\">\n",
       "  <thead>\n",
       "    <tr style=\"text-align: right;\">\n",
       "      <th></th>\n",
       "      <th>Product_Service</th>\n",
       "      <th>Category</th>\n",
       "    </tr>\n",
       "  </thead>\n",
       "  <tbody>\n",
       "    <tr>\n",
       "      <th>0</th>\n",
       "      <td>Airline fares</td>\n",
       "      <td>Transportation</td>\n",
       "    </tr>\n",
       "    <tr>\n",
       "      <th>1</th>\n",
       "      <td>Alcoholic beverages</td>\n",
       "      <td>Alcohol &amp; Tobacco</td>\n",
       "    </tr>\n",
       "    <tr>\n",
       "      <th>2</th>\n",
       "      <td>Alcoholic beverages at home</td>\n",
       "      <td>Alcohol &amp; Tobacco</td>\n",
       "    </tr>\n",
       "    <tr>\n",
       "      <th>3</th>\n",
       "      <td>All items</td>\n",
       "      <td>Uncategorized</td>\n",
       "    </tr>\n",
       "    <tr>\n",
       "      <th>4</th>\n",
       "      <td>All items less energy</td>\n",
       "      <td>Energy</td>\n",
       "    </tr>\n",
       "  </tbody>\n",
       "</table>\n",
       "</div>"
      ],
      "text/plain": [
       "               Product_Service           Category\n",
       "0                Airline fares     Transportation\n",
       "1          Alcoholic beverages  Alcohol & Tobacco\n",
       "2  Alcoholic beverages at home  Alcohol & Tobacco\n",
       "3                    All items      Uncategorized\n",
       "4        All items less energy             Energy"
      ]
     },
     "execution_count": 2,
     "metadata": {},
     "output_type": "execute_result"
    }
   ],
   "source": [
    "import pandas as pd\n",
    "from sklearn.preprocessing import StandardScaler\n",
    "import sys\n",
    "import altair as alt\n",
    "sys.path.append('../src')\n",
    "from models import plot_structure, plot_supply_and_demand, regression_discontinuity_model, differences_differences, plot_for_parallel_trends \n",
    "\n",
    "#categories for products and services gotten by LLMs\n",
    "df_model_data_CAN = pd.read_csv('../data/processed/CAN_Categorized_Products_and_Services_NEW.csv')\n",
    "df_model_data_USA = pd.read_csv('../data/processed/US_Categorized_Products_and_Services_NEW.csv')\n",
    "\n",
    "#CPI data for Canada and USA to analyze grocery and clothing and footwear inflation\n",
    "df_Canada_CPI = pd.read_csv('../data/processed/Canada_CPI_Processed_2018_2019.csv')\n",
    "df_USA_CPI = pd.read_csv('../data/processed/USA_CPI_Processed_2018_2019.csv')\n",
    "\n",
    "print(df_model_data_CAN.head())\n",
    "df_model_data_USA.head()"
   ]
  },
  {
   "cell_type": "code",
   "execution_count": 3,
   "metadata": {},
   "outputs": [],
   "source": [
    "\n",
    "#standardize and get scaled and non-scaled data for CPI data\n",
    "df_USA_CPI_melt = pd.melt(df_USA_CPI, var_name = 'Products and product groups',value_name = 'VALUE', id_vars = 'REF_DATE')\n",
    "\n",
    "df_Canada_CPI_Scaled = df_Canada_CPI.copy()\n",
    "df_Canada_CPI_NonScaled = df_Canada_CPI.copy()\n",
    "\n",
    "df_USA_CPI_Scaled = df_USA_CPI_melt.copy()\n",
    "df_USA_CPI_NonScaled = df_USA_CPI_melt.copy()\n",
    "for unique_product in df_Canada_CPI_Scaled['Products and product groups'].unique():\n",
    "    stan_scale = StandardScaler()\n",
    "    mask = df_Canada_CPI_Scaled['Products and product groups']==unique_product\n",
    "    df_Canada_CPI_Scaled.loc[mask, \"VALUE\"] = stan_scale.fit_transform(df_Canada_CPI_Scaled.loc[mask, \"VALUE\"].values[:, None]).flatten()\n",
    "for unique_product in df_USA_CPI_Scaled['Products and product groups'].unique():\n",
    "    stan_scale = StandardScaler()\n",
    "    mask = df_USA_CPI_Scaled['Products and product groups']==unique_product\n",
    "    df_USA_CPI_Scaled.loc[mask, \"VALUE\"] = stan_scale.fit_transform(df_USA_CPI_Scaled.loc[mask, \"VALUE\"].values[:, None]).flatten()"
   ]
  },
  {
   "cell_type": "code",
   "execution_count": null,
   "metadata": {},
   "outputs": [],
   "source": [
    "#Canada and US datasets scaled and non-scaled and make category columns\n",
    "dict_CAN = df_model_data_CAN.drop_duplicates(subset=['Product_Service']).set_index('Product_Service')['Category'].to_dict()\n",
    "dict_USA = df_model_data_USA.drop_duplicates(subset=['Product_Service']).set_index('Product_Service')['Category'].to_dict()\n",
    "\n",
    "df_Canada_CPI_Scaled['Category'] = df_Canada_CPI['Products and product groups'].map(dict_CAN)\n",
    "df_Canada_CPI_NonScaled['Category'] = df_Canada_CPI['Products and product groups'].map(dict_CAN)\n",
    "df_USA_CPI_Scaled['Category'] = df_USA_CPI_Scaled['Products and product groups'].map(dict_USA)\n",
    "df_USA_CPI_NonScaled['Category'] = df_USA_CPI_NonScaled['Products and product groups'].map(dict_USA)\n"
   ]
  },
  {
   "cell_type": "code",
   "execution_count": null,
   "metadata": {},
   "outputs": [],
   "source": [
    "#make groupby dataframe get median of each category\n",
    "df_Canada_CPI_Cat = df_Canada_CPI_Scaled.copy().drop(columns = ['Products and product groups'])\n",
    "df_Canada_CPI_groupby = df_Canada_CPI_Cat.groupby(['REF_DATE', 'Category']).median().reset_index()\n",
    "\n",
    "df_Canada_CPI_Cat_NonScaled = df_Canada_CPI_NonScaled.copy().drop(columns = ['Products and product groups'])\n",
    "df_Canada_CPI_groupby_NonScaled = df_Canada_CPI_Cat_NonScaled.groupby(['REF_DATE', 'Category']).median().reset_index()\n",
    "\n",
    "df_USA_CPI_Cat = df_USA_CPI_Scaled.copy().drop(columns = ['Products and product groups'])\n",
    "df_USA_CPI_groupby = df_USA_CPI_Cat.groupby(['REF_DATE', 'Category']).median().reset_index()\n",
    "\n",
    "df_USA_CPI_Cat_NonScaled = df_USA_CPI_NonScaled.copy().drop(columns = ['Products and product groups'])\n",
    "df_USA_CPI_groupby_NonScaled = df_USA_CPI_Cat_NonScaled.groupby(['REF_DATE', 'Category']).median().reset_index()"
   ]
  },
  {
   "cell_type": "code",
   "execution_count": null,
   "metadata": {},
   "outputs": [],
   "source": [
    "#look at all potential categories\n",
    "for column in df_Canada_CPI_groupby['Category'].unique():\n",
    "    print(column)"
   ]
  },
  {
   "cell_type": "code",
   "execution_count": null,
   "metadata": {},
   "outputs": [],
   "source": [
    "#look at plot groceries which was more impacted and compare to housing, rent, tax and insurance which was less impacted by tariffs\n",
    "plot_for_parallel_trends(df_Canada_CPI_groupby, '2018-01-01', '2018-11-01', 'Shelter', 'Education & Reading')"
   ]
  },
  {
   "cell_type": "code",
   "execution_count": null,
   "metadata": {},
   "outputs": [],
   "source": [
    "#look at china tariffs for differences in differences to get a better idea for one month\n",
    "differences_differences(df_Canada_CPI_groupby, 'Shelter', 'Education & Reading', '2018-07-01', '2018-09-01', '2018-08-01')"
   ]
  },
  {
   "cell_type": "code",
   "execution_count": null,
   "metadata": {},
   "outputs": [],
   "source": [
    "#It seems like the groupby shows some interaction \n",
    "#let us investigate into specific grocery categories to see which groceries may have been impacted by the tariffs"
   ]
  },
  {
   "cell_type": "code",
   "execution_count": null,
   "metadata": {},
   "outputs": [],
   "source": [
    "\n",
    "grocery_items = df_Canada_CPI_NonScaled[(df_Canada_CPI_NonScaled['Category'] == 'Shelter')]['Products and product groups'].unique()\n",
    "\n",
    "grocery_dataframe = df_Canada_CPI_NonScaled[(df_Canada_CPI_NonScaled['Category'] == 'Shelter') | (df_Canada_CPI_NonScaled['Category'] == 'Education & Reading')]\n",
    "\n",
    "\n",
    "dict_grocery = food_categories = {\n",
    "    \"Homeowners' home and mortgage insurance\": 'Owned accommodation',\n",
    "    \"Homeowners' maintenance and repairs\": 'Owned accommodation',\n",
    "    \"Homeowners' replacement cost\": 'Owned accommodation',\n",
    "    \"Mortgage interest cost\": 'Owned accommodation',\n",
    "    \"Other owned accommodation expenses\": 'Owned accommodation',\n",
    "    \"Property taxes and other special charges\": 'Owned accommodation',\n",
    "    \"Rent\": 'Rented accommodation',\n",
    "    \"Tenants' insurance premiums\": 'Rented accommodation',\n",
    "    \"Tenants' maintenance, repairs and other expenses\": 'Rented accommodation',\n",
    "    \"Electricity\": 'Water, fuel and electricity',\n",
    "    \"Fuel oil and other fuels\": 'Water, fuel and electricity',\n",
    "    \"Natural gas\": 'Water, fuel and electricity',\n",
    "    \"Water\": 'Water, fuel and electricity',\n",
    "    'Books and reading material (excluding textbooks)':'Books, Magazines & Newspaper',\n",
    "    'Education':'Education',\t\t\t\t\t\n",
    "    'Education and reading':'Education',\t\t\t\t\n",
    "    'Magazines and periodicals':'Books, Magazines & Newspaper',\t\t\t\n",
    "    'Newspapers':'Books, Magazines & Newspaper',\t\t\t\t\t\n",
    "    'Reading material (excluding textbooks)':'Books, Magazines & Newspaper',\t\t\n",
    "    'Recreation, education and reading':'Education',\t\t\n",
    "    'School textbooks and supplies':'Books, Magazines & Newspaper',\t\t\t\n",
    "    'Tuition fees':'Education'\n",
    "}\n",
    "\n",
    "dict_grocery_US= {\n",
    "    'Owned accommodation': [\n",
    "        'Fuels and utilities', 'Household energy', 'Housing', 'Housing at school, excluding board',\n",
    "        \"Owners' equivalent rent of primary residence\", \"Owners' equivalent rent of residences\"\n",
    "    ],\n",
    "    'Rented accommodation': [\n",
    "        'Rent of primary residence', 'Rent of shelter', 'Services less rent of shelter'\n",
    "    ],\n",
    "    'Water, fuel and electricity': [\n",
    "        'Utility (piped) gas service', 'Water and sewer and trash collection services','Water and sewerage maintenance'\n",
    "    ]\n",
    "}\n",
    "\n",
    "\n",
    "US_grocery_dataset = df_USA_CPI_NonScaled[(df_USA_CPI_NonScaled['Category'] == 'Shelter') | (df_USA_CPI_NonScaled['Category'] == 'Education & Reading')]\n",
    "\n",
    "print(US_grocery_dataset['Products and product groups'].unique())\n",
    "\n",
    "US_grocery_dataset['Category'] = US_grocery_dataset['Category'].map(dict_grocery_US)\n",
    "\n"
   ]
  },
  {
   "cell_type": "code",
   "execution_count": null,
   "metadata": {},
   "outputs": [],
   "source": [
    "#make grocery categories within the grocery category dataframe\n",
    "grocery_dataframe['Category'] = grocery_dataframe['Products and product groups'].map(dict_grocery)\n",
    "\n",
    "grocery_dataframe.drop(columns = ['Products and product groups'], inplace=True)\n",
    "print(grocery_dataframe['Category'].unique())\n",
    "grocery_dataframe_groupby = grocery_dataframe.groupby(['REF_DATE', 'Category']).mean().reset_index()"
   ]
  },
  {
   "cell_type": "code",
   "execution_count": null,
   "metadata": {},
   "outputs": [],
   "source": [
    "plot_for_parallel_trends(grocery_dataframe_groupby, '2018-06-01', '2018-09-01', 'Fish and Seafood', 'Dairy')\n",
    "\n",
    "#Dairy seems unimpacted due to the protection tariffs by Canada while fish and seafood the counterfactual seems to go down following the treatment period as a sort of recovery period"
   ]
  },
  {
   "cell_type": "code",
   "execution_count": null,
   "metadata": {},
   "outputs": [],
   "source": [
    "plot_for_parallel_trends(grocery_dataframe_groupby, '2018-06-01', '2018-09-01', 'Grains', 'Pasta', 'Vegetables')"
   ]
  },
  {
   "cell_type": "code",
   "execution_count": null,
   "metadata": {},
   "outputs": [],
   "source": [
    "plot_for_parallel_trends(grocery_dataframe_groupby, '2018-06-01', '2018-09-01', 'Sweets', 'Fruit')"
   ]
  },
  {
   "cell_type": "code",
   "execution_count": null,
   "metadata": {},
   "outputs": [],
   "source": [
    "plot_for_parallel_trends(grocery_dataframe_groupby, '2018-06-01', '2018-09-01', 'Meat', 'Pet Supplies')"
   ]
  },
  {
   "cell_type": "code",
   "execution_count": null,
   "metadata": {},
   "outputs": [],
   "source": [
    "plot_for_parallel_trends(grocery_dataframe_groupby, '2018-06-01', '2018-09-01', 'General Category', 'Dining Out')"
   ]
  },
  {
   "cell_type": "code",
   "execution_count": null,
   "metadata": {},
   "outputs": [],
   "source": [
    "#It seems most items follow a sharp downward trend in august when china tariffs were implemented and were not as affected by Canadian tariffs\n",
    "#Only dairy and seafood and fish seem to follow the parallel trends assumption \n",
    "#let us investigate differences in differences to get an idea of the impact of the tariffs on groceries that followed the aforementioned pattern\n",
    "#these groceries seem to have to do with everyday food group except carbohydrates and vegetables\n",
    "differences_differences(grocery_dataframe_groupby, 'Fish and Seafood', 'Dairy', '2018-07-01', '2018-09-01', '2018-08-01')"
   ]
  },
  {
   "cell_type": "code",
   "execution_count": null,
   "metadata": {},
   "outputs": [],
   "source": [
    "#It seems the groupby shows a significant difference but when looking at the individual items, the difference is not significant\n",
    "#perhaps there was not enough data and the set was underpowered but it provides some evidence from the plots that the tariffs may have had a slight impact on goods - let us investigate further"
   ]
  },
  {
   "cell_type": "code",
   "execution_count": null,
   "metadata": {},
   "outputs": [],
   "source": [
    "#df_sales for Canada and USA\n",
    "df_sales = pd.read_csv(\"../data/processed/Canada_Sales_Processed.csv\")"
   ]
  },
  {
   "cell_type": "code",
   "execution_count": null,
   "metadata": {},
   "outputs": [],
   "source": [
    "df_sales.columns = ['PrincipleStats', 'GoodType', 'REF_DATE', 'VALUE']\n",
    "df_sales['PrincipleStats'].unique()"
   ]
  },
  {
   "cell_type": "code",
   "execution_count": null,
   "metadata": {},
   "outputs": [],
   "source": [
    "for column in df_sales['GoodType'].unique():\n",
    "    print(column)"
   ]
  },
  {
   "cell_type": "code",
   "execution_count": null,
   "metadata": {},
   "outputs": [],
   "source": [
    "#On august the unfilled orders was lowered meaning less food manufacturing demand and less supply to retail store and more inflation for that month\n",
    "plot_supply_and_demand(df_sales, \"Food manufacturing [311]\")"
   ]
  },
  {
   "cell_type": "code",
   "execution_count": null,
   "metadata": {},
   "outputs": [],
   "source": [
    "#it seems more inventory meant that less orders were filled - this could be due to the tariffs - and it also seems that there were fewer unfilled orders meaning less demand for food manufacturing which means supply went down and inflation should go up.\n",
    "#but since demand and inventory are similar, it is hard to say if the tariffs had an impact on inflation and the original models without the groupby may be right "
   ]
  },
  {
   "cell_type": "code",
   "execution_count": null,
   "metadata": {},
   "outputs": [],
   "source": [
    "#lets look earlier\n",
    "plot_supply_and_demand(df_sales, \"Food manufacturing [311]\", '2017-10-01', '2018-06-01')\n"
   ]
  },
  {
   "cell_type": "code",
   "execution_count": null,
   "metadata": {},
   "outputs": [],
   "source": [
    "model_Canada_RC_groceries_first_tariff, _, _, _ = regression_discontinuity_model(df_Canada_CPI_groupby, 'Shelter', '2017-10-01', '2018-06-01', '2018-03-01', '2018-04-01')"
   ]
  },
  {
   "cell_type": "code",
   "execution_count": null,
   "metadata": {},
   "outputs": [],
   "source": [
    "\n",
    "model_Canada_RC_groceries_first_tariff.summary()"
   ]
  },
  {
   "cell_type": "code",
   "execution_count": null,
   "metadata": {},
   "outputs": [],
   "source": [
    "model_Canada_RC_groceries_second_tariff, _, _, _ = regression_discontinuity_model(df_Canada_CPI_groupby, 'Shelter', '2018-05-01', '2018-12-01', '2018-07-01', '2018-10-01')"
   ]
  },
  {
   "cell_type": "code",
   "execution_count": null,
   "metadata": {},
   "outputs": [],
   "source": [
    "model_Canada_RC_groceries_second_tariff.summary()"
   ]
  },
  {
   "cell_type": "code",
   "execution_count": null,
   "metadata": {},
   "outputs": [],
   "source": [
    "first_tariff_vs_second_tariff, _, _, _ = regression_discontinuity_model(df_Canada_CPI_groupby, 'Shelter', '2017-10-01', '2018-12-01', '2018-05-01')\n",
    "\n",
    "first_tariff_vs_second_tariff.summary()"
   ]
  },
  {
   "cell_type": "code",
   "execution_count": null,
   "metadata": {},
   "outputs": [],
   "source": [
    "#it seems like american tariffs had little immediate impact on Canadian grocery retailers when looking at manufacturing even the only month affected was the China tariffs in August as mentioned supply was still high - it is hard to disentangle the impact of the tariffs and the news so perhaps we should look for a more long term approach to gain more insight to what happened with groceries\n",
    "\n",
    "\n",
    "Canada_parallel_trends_groceries = plot_for_parallel_trends(df_Canada_CPI_groupby, '2017-01-01', '2019-10-01', 'Shelter', 'Education & Reading')\n",
    "\n"
   ]
  },
  {
   "cell_type": "code",
   "execution_count": null,
   "metadata": {},
   "outputs": [],
   "source": [
    "#it is hard to quantify the impact of groceries based on specific tariffs due to the serial correlation of tariffs but looking from the start of the breakdown in China talks to the Chinese hike tax we will look at RD between these periods and see if we can draw conclusions\n",
    "#there does seem to be greater variance from the start of the Intellectual Property Trials to the Chinese hike in tariffs that started propagating like a wave with each tariff with minimal activity following the results of the IP investigation - let us investigate further\n",
    "model_groceries_longterm_IP, _, _, _ = regression_discontinuity_model(df_Canada_CPI_groupby, 'Shelter', '2017-01-01', '2018-04-01', '2017-08-01', heteroskedasticity = 'nonrobust')\n",
    "\n",
    "model_groceries_longterm_IP.summary()"
   ]
  },
  {
   "cell_type": "code",
   "execution_count": null,
   "metadata": {},
   "outputs": [],
   "source": [
    "#Next lets compare with RD the tariff / IP trails period to the Chinese hike in tariffs\n",
    "model_groceries_longterm_recovery, _, _, _ = regression_discontinuity_model(df_Canada_CPI_groupby, 'Shelter', '2018-02-01', '2019-05-01', '2018-11-01', '2019-01-01')\n",
    "\n",
    "print(model_groceries_longterm_recovery.summary())\n",
    "\n"
   ]
  },
  {
   "cell_type": "code",
   "execution_count": null,
   "metadata": {},
   "outputs": [],
   "source": [
    "#The IP trials overall impact including the US tariffs on Canada shows a reduction on inflation in groceries in Canada while the Chinese hike in tariffs to the end of the data does not show a significant impact on groceries with the groupby\n",
    "\n",
    "#the smaller impact of each tariff appear to cause a wave that ripples through time causing greater variance in the data, each individual month of tariffs increased inflation at the treatment period but appeared to reduce inflation the following month before another wave occurs. \n",
    "\n",
    "#overall groceries were not as impacted when grouped together as there were some groceries influenced such as seafood while other groceries such as dairy remained unimpacted \n",
    "\n",
    "\n",
    "#In other words the tariffs had a short term impact on inflation but contributed to larger ripples in waves that caused greater variance in the data.\n",
    "\n",
    "#The news of breakdown in China talks momentarily caused economic shock that influenced the agricultural industry to decrease food supply in Canada and increase inflation\n",
    "# and the proceeding recovery after the break down in China talks and beginning of IP trade investigations, did appear to make grocery inflation lower for a short period of time.\n",
    "\n",
    "\n",
    "\n"
   ]
  },
  {
   "cell_type": "markdown",
   "metadata": {},
   "source": []
  },
  {
   "cell_type": "code",
   "execution_count": null,
   "metadata": {},
   "outputs": [],
   "source": [
    "\n",
    "#let us plot the char for sales for food manufucturing during this time period again for further investigate invesigation\n",
    "\n",
    "Canada_groceries_supply_demand = plot_supply_and_demand(df_sales, \"Food manufacturing [311]\", \"2017-02-01\", \"2019-12-01\")\n",
    "\n",
    "Canada_groceries_supply_demand"
   ]
  },
  {
   "cell_type": "code",
   "execution_count": null,
   "metadata": {},
   "outputs": [],
   "source": [
    "#It appears that demand for food manufacturing was lower than supply during the trade talk breakdown which means supply for food was limited during the trade talks which caused inflation but demand rose following the trade talk breakdown and remained unaffected throughout the tariffs which is why groceries were largely unaffected\n",
    "\n"
   ]
  },
  {
   "cell_type": "code",
   "execution_count": null,
   "metadata": {},
   "outputs": [],
   "source": [
    "#while inventory did increase meaning a decrease in supply, there was still enough demand and that is why groceries were not impacted despite the sharp decrease in August 2018 perhaps mainly due to the China tariffs on US goods.\n",
    "\n"
   ]
  },
  {
   "cell_type": "code",
   "execution_count": null,
   "metadata": {},
   "outputs": [],
   "source": [
    "#let us look at what happened in American groceries due to the tariffs and compare the effect of the tariffs on groceries for US tariffs vs Canadian tariffs\n",
    "#they appear to have a similar effect on American goods\n",
    "\n",
    "plot_structure(df_USA_CPI_groupby, 'Shelter', '2017-01-01', '2020-02-01')\n",
    "\n"
   ]
  },
  {
   "cell_type": "code",
   "execution_count": null,
   "metadata": {},
   "outputs": [],
   "source": [
    "#It appears that the American grocery dataset follows the Canadian with waves except the breakdown in china talks led to a decrease in inflation for Canadian groceries but an increase for American groceries\n",
    "# We will look at the IP investigation later but it appears trumps tariffs on Canadian goods had only a small impact on American groceries but the combination of Canadian announcement of tariffs, canadian tariffs and chinese tariffs on American exported goods may have had a larger impact, let us investigate further\n",
    "model_USA_RC_grocery_cutoff_first_tariff, _, _, _ = regression_discontinuity_model(df_USA_CPI_groupby, 'Shelter', '2017-10-01', '2018-06-01', '2018-03-01', '2018-04-01')\n",
    "\n",
    "print(model_USA_RC_grocery_cutoff_first_tariff.summary())\n",
    "model_USA_RC_grocery_cutoff_second_tariff, _, _, _= regression_discontinuity_model(df_USA_CPI_groupby, 'Shelter', '2018-05-01', '2018-12-01', '2018-07-01', '2018-10-01')\n",
    "\n",
    "print(model_USA_RC_grocery_cutoff_second_tariff.summary())\n",
    "\n",
    "model_longterm_impact_groceries, _, _, _ = regression_discontinuity_model(df_USA_CPI_groupby, 'Shelter', '2017-10-01', '2019-12-01', '2018-02-01', '2018-04-01')\n",
    "\n",
    "print(model_longterm_impact_groceries.summary())\n",
    "\n"
   ]
  },
  {
   "cell_type": "code",
   "execution_count": null,
   "metadata": {},
   "outputs": [],
   "source": [
    "#It appear american groceries were more impacted than canadian groceries for tariffs, perhaps this impact was more measureable since Canada had higher variance changes\n",
    "#It is also important to note that Canada has a lower population and are more likely to have higher variance as a result over time\n",
    "#but American tariffs on American goods did significantly increase inflation in the post period and treatment period while Canadian tariffs appeared to lower the tariffs post period but increase tariffs during the treatment period signficant. Significance was not found for the two tariff periods in the Canadian groceries.\n",
    "\n",
    "#The tariffs only caused a small blimp in the groceries while long term impact was harder to measure - let us investigate further\n",
    "\n"
   ]
  },
  {
   "cell_type": "code",
   "execution_count": null,
   "metadata": {},
   "outputs": [],
   "source": [
    "print(df_USA_CPI_groupby['Category'].unique())\n",
    "USA_parallel_trends_groceries = plot_for_parallel_trends(df_USA_CPI_groupby, '2017-01-01', '2019-12-01', 'Shelter', 'Education & Reading', category_3 = None)\n",
    "\n",
    "USA_parallel_trends_groceries"
   ]
  },
  {
   "cell_type": "code",
   "execution_count": null,
   "metadata": {},
   "outputs": [],
   "source": [
    "differences_differences(df_USA_CPI_Scaled, 'Shelter', 'Education & Reading', '2018-03-01', '2018-05-01', '2018-04-01')"
   ]
  },
  {
   "cell_type": "code",
   "execution_count": null,
   "metadata": {},
   "outputs": [],
   "source": [
    "differences_differences(df_USA_CPI_groupby, 'Shelter', 'Education & Reading', '2018-03-01', '2018-05-01', '2018-04-01')"
   ]
  },
  {
   "cell_type": "code",
   "execution_count": null,
   "metadata": {},
   "outputs": [],
   "source": [
    "\n",
    "\n",
    "#differences in differences shows little impact for American groceries however on very short term impact (1 month) whereas in the Canadian dataset there was more of an impact for American tariffs on Canadian goods - let us examine why with datasets of export and import\n",
    "\n",
    "\n",
    "\n"
   ]
  },
  {
   "cell_type": "code",
   "execution_count": null,
   "metadata": {},
   "outputs": [],
   "source": [
    "USA_sales = pd.read_csv(\"../data/processed/USA_Sales_Processed.csv\")\n",
    "USA_sales_groceries_vehicles = pd.read_csv(\"../data/processed/USA_Sales_Groceries_Vehicles_Processed.csv\")\n",
    "print(USA_sales.tail())\n",
    "print(USA_sales_groceries_vehicles.tail())"
   ]
  },
  {
   "cell_type": "code",
   "execution_count": null,
   "metadata": {},
   "outputs": [],
   "source": [
    "for column in USA_sales_groceries_vehicles['cat_idx'].unique():\n",
    "    print(column)"
   ]
  },
  {
   "cell_type": "code",
   "execution_count": null,
   "metadata": {},
   "outputs": [],
   "source": [
    "USA_sales['PrincipleStats'] = USA_sales['dt_idx']\n",
    "USA_sales['GoodType'] = USA_sales['cat_idx']\n",
    "USA_sales['VALUE'] = USA_sales[\"val\"]\n",
    "\n"
   ]
  },
  {
   "cell_type": "code",
   "execution_count": null,
   "metadata": {},
   "outputs": [],
   "source": [
    "for column in USA_sales['PrincipleStats'].unique():\n",
    "    print(column)\n",
    "\n",
    "print(sep = '\\n')\n",
    "for column in USA_sales['GoodType'].unique():\n",
    "    print(column)\n",
    "print(sep = '\\n')\n",
    "for column in USA_sales.columns:\n",
    "    print(column)\n",
    "\n",
    "USA_sales['PrincipleStats'] = USA_sales[\"PrincipleStats\"].astype(str)\n",
    "USA_sales['GoodType'] = USA_sales['GoodType'].astype(str)\n",
    "\n",
    "USA_sales.to_csv(\"../data/processed/USA_Sales_Processed_Final.csv\", index=False)\n",
    "df_sales.to_csv(\"../data/processed/Canada_Sales_Processed_Final.csv\", index=False)"
   ]
  },
  {
   "cell_type": "code",
   "execution_count": null,
   "metadata": {},
   "outputs": [],
   "source": [
    "for column in USA_sales['GoodType'].unique():\n",
    "    print(column)\n",
    "    print(USA_sales[(USA_sales['GoodType']==column) & (USA_sales['PrincipleStats']=='Finished Goods Inventories Percent Change Monthly') & (USA_sales['REF_DATE']>='2017-01-01')&(USA_sales['REF_DATE']<='2020-02-01')])\n",
    "\n",
    "\n",
    "USA_groceries_supply_demand = plot_supply_and_demand(USA_sales, \"Food Products\", '2017-01-01', '2019-10-01', \"Finished Goods Inventories\", \"Inventories to Shipments Ratios\")\n",
    "USA_groceries_supply_demand"
   ]
  },
  {
   "cell_type": "code",
   "execution_count": null,
   "metadata": {},
   "outputs": [],
   "source": [
    "#It seems that the tariffs increased finished inventory percentage change per month which decreased the following month meaning demand was changing based on the tariff changes in the news notably on 2018-04 and 2018-08 which indicates an instability in the market demand coinciding with momentary inflation for that month for American groceries."
   ]
  },
  {
   "cell_type": "code",
   "execution_count": null,
   "metadata": {},
   "outputs": [],
   "source": [
    "#lets compare the change in variance of groceries in America to Canada to compare the effect of tariffs on groceries in both countries\n",
    "\n",
    "mask_USA_groceries = df_USA_CPI_Scaled['Category'] == 'Shelter'\n",
    "mask_Canada_groceries = df_Canada_CPI_Scaled['Category'] == 'Shelter'\n",
    "\n",
    "df_USA_CPI_Scaled_groceries = df_USA_CPI_Scaled[mask_USA_groceries]\n",
    "df_Canada_CPI_Scaled_groceries = df_Canada_CPI_Scaled[mask_Canada_groceries]\n",
    "\n",
    "df_USA_CPI_Scaled_groceries['Country'] = ['USA']*len(df_USA_CPI_Scaled_groceries)\n",
    "df_Canada_CPI_Scaled_groceries['Country'] = ['Canada']*len(df_Canada_CPI_Scaled_groceries)\n",
    "\n",
    "df_USA_CPI_Scaled_groceries.drop(columns = ['Products and product groups'], inplace=True)\n",
    "df_Canada_CPI_Scaled_groceries.drop(columns = ['Products and product groups'], inplace=True)\n",
    "\n",
    "df_USA_CPI_Scaled_groc_var = df_USA_CPI_Scaled_groceries.groupby(['REF_DATE', 'Category', 'Country']).std().reset_index()\n",
    "df_Canada_CPI_Scaled_groc_var = df_Canada_CPI_Scaled_groceries.groupby(['REF_DATE', 'Category', 'Country']).std().reset_index()\n",
    "\n",
    "df_USA_Canada_groceries = pd.concat([df_USA_CPI_Scaled_groc_var, df_Canada_CPI_Scaled_groc_var])\n",
    "\n",
    "variance_groceries_CPI = plot_structure(df_USA_Canada_groceries, 'Shelter', '2017-01-01', '2020-02-01', color = 'Country', x_label = \"Date\", y_label = \"Variance of CPI index for Groceries\", lines_to_plot = ['2017-08-01', '2017-11-01', '2019-05-01'], title = 'CPI Variance for Groceries in Canada and USA')\n",
    "\n",
    "((USA_parallel_trends_groceries|Canada_parallel_trends_groceries)&(USA_groceries_supply_demand | Canada_groceries_supply_demand)).configure_axis(grid=False).properties(title = alt.TitleParams(text = 'US and Canada Groceries Inflation and Supply and Demand', subtitle = 'The tariffs caused a waves of inflation in groceries in both countries with food manufacturing being more affected in Canada than US')).save('US_Canada_Groceries_Inflation_Supply_Demand.html')\n"
   ]
  },
  {
   "cell_type": "code",
   "execution_count": null,
   "metadata": {},
   "outputs": [],
   "source": [
    "#It seems like the break down of the China talks decreased variance and the proceeding IP investigation increased variance in America first while Canada had a lag in their decrease.\n",
    "#The IP investigation and the tariffs appeared to increase variance following the breakdown in talks meaning there was recooperation but America did not quite recover following the end of the tariffs in May 2019.\n",
    "# the variance of the CPI decrease may mean that the consumer market relied on only essential grocery goods during the tariffs - we should further investigate "
   ]
  },
  {
   "cell_type": "code",
   "execution_count": null,
   "metadata": {},
   "outputs": [],
   "source": [
    "df_Canada_Number_Groceries = pd.read_csv(\"../data/processed/Canada_Number_Groceries_Processed.csv\")"
   ]
  },
  {
   "cell_type": "code",
   "execution_count": null,
   "metadata": {},
   "outputs": [],
   "source": [
    "print(df_Canada_Number_Groceries.head())\n",
    "for uniq_product in df_Canada_Number_Groceries['North American Industry Classification System (NAICS)'].unique():\n",
    "    print(uniq_product)"
   ]
  },
  {
   "cell_type": "code",
   "execution_count": null,
   "metadata": {},
   "outputs": [],
   "source": [
    "lst_groceries_category = [0]*8 + [1]*6 + [0]*16\n",
    "dict_groceries = {uniq_product: category for uniq_product, category in zip(df_Canada_Number_Groceries['North American Industry Classification System (NAICS)'].unique(), lst_groceries_category)}"
   ]
  },
  {
   "cell_type": "code",
   "execution_count": null,
   "metadata": {},
   "outputs": [],
   "source": [
    "df_Canada_Number_Groceries['Category'] = df_Canada_Number_Groceries['North American Industry Classification System (NAICS)'].map(dict_groceries)"
   ]
  },
  {
   "cell_type": "code",
   "execution_count": null,
   "metadata": {},
   "outputs": [],
   "source": [
    "df_Canada_Number_Groceries_groupby = df_Canada_Number_Groceries.copy()\n",
    "df_Canada_Number_Groceries_groupby.drop(columns = ['North American Industry Classification System (NAICS)', 'Sales'], inplace=True)\n",
    "df_Canada_Number_Groceries_groupby = df_Canada_Number_Groceries_groupby.groupby(['REF_DATE', 'Category']).std().reset_index()\n",
    "df_Canada_Number_Groceries_groupby.reset_index(inplace=True)\n",
    "mask = (df_Canada_Number_Groceries_groupby['Category']==1)\n",
    "scaler = StandardScaler()\n",
    "df_Canada_Number_Groceries_plot_all = df_Canada_Number_Groceries[df_Canada_Number_Groceries['Category']==1]\n",
    "df_Canada_Number_Groceries_groupby.loc[mask, \"VALUE\"] = scaler.fit_transform(df_Canada_Number_Groceries_groupby.loc[mask, 'VALUE'].values.reshape(-1, 1))\n",
    "plot_structure(df_Canada_Number_Groceries_groupby,1,'2017-01-01', '2020-02-01')\n",
    "for unique_class in df_Canada_Number_Groceries_plot_all['North American Industry Classification System (NAICS)'].unique():\n",
    "    scale = StandardScaler()\n",
    "    mask = df_Canada_Number_Groceries_plot_all['North American Industry Classification System (NAICS)'] == unique_class\n",
    "    df_Canada_Number_Groceries_plot_all.loc[mask, \"VALUE\"] = scale.fit_transform(df_Canada_Number_Groceries_plot_all[mask]['VALUE'].values.reshape(-1, 1))\n",
    "alt.Chart(df_Canada_Number_Groceries_plot_all).mark_line().encode(\n",
    "    x='REF_DATE',\n",
    "    y='VALUE',\n",
    "    color='North American Industry Classification System (NAICS)'\n",
    ")"
   ]
  },
  {
   "cell_type": "code",
   "execution_count": null,
   "metadata": {},
   "outputs": [],
   "source": [
    "#It seems there was higher variance in terms of where the groceries were bought in Canada coinciding with results from the breakdown in talks with China, the IP announcment and the tariffs - there was a reliance on convenience retailers and vending machines during the tariff period which was then under-utilized durign the recovery period follow May 2019\n",
    "# \n",
    "# This seems to indicate that the Canadian groceries for consumers did indeed recover following the tariffs and the recovery may have been stronger than American groceries.\n",
    "\n",
    "#let us now turn out attention to clothing. "
   ]
  },
  {
   "cell_type": "code",
   "execution_count": null,
   "metadata": {},
   "outputs": [],
   "source": [
    "plot_structure(df_Canada_CPI_groupby, 'Clothing and footwear', '2017-01-01', '2019-10-01')"
   ]
  },
  {
   "cell_type": "code",
   "execution_count": null,
   "metadata": {},
   "outputs": [],
   "source": [
    "#It doesnt appear Canadian clothing and footwear was that impacted by tariffs but let us look closer"
   ]
  },
  {
   "cell_type": "code",
   "execution_count": null,
   "metadata": {},
   "outputs": [],
   "source": [
    "Canada_Supply_Demand_Clothing = plot_supply_and_demand(df_sales, \"Leather and allied product manufacturing [316]\", \"2017-01-01\", \"2019-10-01\")"
   ]
  },
  {
   "cell_type": "code",
   "execution_count": null,
   "metadata": {},
   "outputs": [],
   "source": [
    "\n",
    "Apparel_Canada = plot_supply_and_demand(df_sales, \"Apparel manufacturing [315]\", \"2017-01-01\", \"2019-10-01\")\n",
    "\n",
    "Apparel_Canada"
   ]
  },
  {
   "cell_type": "code",
   "execution_count": null,
   "metadata": {},
   "outputs": [],
   "source": [
    "#IT seems like manufacturing demand for clothing took a hit during July which means there were less orders from clothing stores and supply for clothing was decreased\n",
    "\n",
    "#Inflation should have increased a bit for clothing and footwear but it was the impact of trumps tariffs that caused the reduction in supply - this increase in inflation is difficult to measure in July due to the seasonal nature of clothing and footwear but perhaps we can look at regression discontinuity "
   ]
  },
  {
   "cell_type": "code",
   "execution_count": null,
   "metadata": {},
   "outputs": [],
   "source": [
    "model_clothing_US_tariff_on_Canada, _, _, _ = regression_discontinuity_model(df_Canada_CPI_Scaled, 'Clothing and footwear', '2018-03-01', '2018-09-01', '2018-07-01', '2018-08-01')\n",
    "\n",
    "model_clothing_US_tariff_on_Canada.summary()"
   ]
  },
  {
   "cell_type": "code",
   "execution_count": null,
   "metadata": {},
   "outputs": [],
   "source": [
    "model_clothing_US_tariff_groupby, clothing_chart_clothing_US_original, clothing_chart_clothing_US_diff, clothing_chart_clothing_US_vtrend, clothing_chart_clothing_US_trend = regression_discontinuity_model(df_Canada_CPI_groupby, 'Clothing and footwear', '2017-08-01', '2019-10-01', '2019-03-01', '2019-08-01', seasonality=True)\n",
    "\n",
    "model_clothing_US_tariff_groupby.summary()"
   ]
  },
  {
   "cell_type": "code",
   "execution_count": null,
   "metadata": {},
   "outputs": [],
   "source": [
    "#this visual trend is not picked up by statistics - which means there was lower impact on inflation perhaps because of the already abundance of clothing in stores and the already lack of demand\n",
    "\n",
    "#In fact the effect of the tariffs was not seen until during March 2019 - August 2019 meaning there was a lack of supply for clothing which is why there was inflation, this impact was significant. "
   ]
  },
  {
   "cell_type": "code",
   "execution_count": null,
   "metadata": {},
   "outputs": [],
   "source": [
    "#It appears to have caused a decrease in orders or manufacturing demand which means less supply for clothing and footwear, however, demand was still above supply in this time frame - the impact may not have been felt until in March 2019 because of the already high supply of clothing and footwear in retail stores\n",
    "\n"
   ]
  },
  {
   "cell_type": "code",
   "execution_count": null,
   "metadata": {},
   "outputs": [],
   "source": [
    "for column in USA_sales['GoodType'].unique():\n",
    "    print(column)\n",
    "    print(USA_sales[(USA_sales['GoodType']==column) & (USA_sales['PrincipleStats']=='Finished Goods Inventories Percent Change Monthly') & (USA_sales['REF_DATE']>='2017-01-01')&(USA_sales['REF_DATE']<='2020-02-01')])\n",
    "\n",
    "\n",
    "USA_leather = plot_supply_and_demand(USA_sales, \"Leather and Allied Products\", '2017-01-01', '2019-10-01', \"Finished Goods Inventories Percent Change Monthly\", \"Value of Shipments\")\n"
   ]
  },
  {
   "cell_type": "code",
   "execution_count": null,
   "metadata": {},
   "outputs": [],
   "source": [
    "#let us look at the American dataset to see if the same trend is seen\n",
    "\n",
    "plot_structure(df_USA_CPI_groupby, 'Clothing and footwear', '2017-01-01', '2019-10-01')"
   ]
  },
  {
   "cell_type": "code",
   "execution_count": null,
   "metadata": {},
   "outputs": [],
   "source": [
    "model_clothing_US_tariff, USA_chart_clothing_original, US_chart_clothing_diff, US_chart_clothing_vtrend, US_chart_clothing_trend = regression_discontinuity_model(df_USA_CPI_groupby, 'Clothing and footwear', '2017-01-01', '2019-08-01', '2017-10-01', '2019-02-01', seasonality=True)\n",
    "\n",
    "print(model_clothing_US_tariff.summary())\n",
    "model_clothing_US_tariff, USA_chart_clothing_original, US_chart_clothing_diff, US_chart_clothing_vtrend, US_chart_clothing_trend = regression_discontinuity_model(df_USA_CPI_groupby, 'Clothing and footwear', '2017-01-01', '2019-08-01', '2017-10-01', '2019-02-01', seasonality=True, fuzzy_sharp_omit = True)\n",
    "\n",
    "model_clothing_US_tariff.summary()\n"
   ]
  },
  {
   "cell_type": "code",
   "execution_count": null,
   "metadata": {},
   "outputs": [],
   "source": [
    "#It seems that both trumps tariffs caused American goods to increase in inflation while Canadian/Chinese tariffs caused a decrease in inflation for American clothings and footwear\n",
    "\n",
    "#let us investigate further with regression discontinuity\n",
    "\n",
    "model_clothing_US_tariff, _, _, _ = regression_discontinuity_model(df_USA_CPI_groupby, 'Clothing and footwear', '2017-10-01', '2018-06-01', '2018-02-01', '2018-04-01')\n",
    "\n",
    "model_clothing_US_tariff.summary()"
   ]
  },
  {
   "cell_type": "code",
   "execution_count": null,
   "metadata": {},
   "outputs": [],
   "source": [
    "model_clothing_US_tariff, _, _, _ = regression_discontinuity_model(df_USA_CPI_Scaled, 'Clothing and footwear', '2017-10-01', '2018-06-01', '2018-02-01', '2018-04-01')\n",
    "\n",
    "model_clothing_US_tariff.summary()"
   ]
  },
  {
   "cell_type": "code",
   "execution_count": null,
   "metadata": {},
   "outputs": [],
   "source": [
    "model_clothing_US_tariff, _, _, _ = regression_discontinuity_model(df_USA_CPI_groupby, 'Clothing and footwear', '2018-05-01', '2018-12-01', '2018-07-01', '2018-10-01')\n",
    "\n",
    "model_clothing_US_tariff.summary()"
   ]
  },
  {
   "cell_type": "code",
   "execution_count": null,
   "metadata": {},
   "outputs": [],
   "source": [
    "\n",
    "\n",
    "mask_USA_clothing = df_USA_CPI_Scaled['Category'] == 'Clothing and footwear'\n",
    "mask_Canada_clothing = df_Canada_CPI_Scaled['Category'] == 'Clothing and footwear'\n",
    "\n",
    "df_USA_CPI_Scaled_clothing = df_USA_CPI_Scaled[mask_USA_clothing]\n",
    "df_Canada_CPI_Scaled_clothing = df_Canada_CPI_Scaled[mask_Canada_clothing]\n",
    "print(df_USA_CPI_Scaled_clothing.head())\n",
    "df_USA_CPI_Scaled_clothing['Country'] = ['USA']*len(df_USA_CPI_Scaled_clothing)\n",
    "df_Canada_CPI_Scaled_clothing['Country'] = ['Canada']*len(df_Canada_CPI_Scaled_clothing)\n",
    "\n",
    "df_USA_CPI_Scaled_clothing.drop(columns = ['Products and product groups'], inplace=True)\n",
    "df_Canada_CPI_Scaled_clothing.drop(columns = ['Products and product groups'], inplace=True)\n",
    "\n",
    "df_USA_CPI_Scaled_clothing_var = df_USA_CPI_Scaled_clothing.groupby(['REF_DATE', 'Category', 'Country']).std().reset_index()\n",
    "df_Canada_CPI_Scaled_clothing_var = df_Canada_CPI_Scaled_clothing.groupby(['REF_DATE', 'Category', 'Country']).std().reset_index()\n",
    "\n",
    "df_USA_Canada_clothing = pd.concat([df_USA_CPI_Scaled_clothing_var, df_Canada_CPI_Scaled_clothing_var])\n",
    "print(df_USA_Canada_clothing.head())\n",
    "CPI_variance_clothing = plot_structure(df_USA_Canada_clothing, 'Clothing and footwear', '2017-01-01', '2020-02-01', color = 'Country', lines_to_plot = ['2019-05-01', '2019-11-01'], x_label = \"Date\", y_label = \"Variance of CPI index for Clothing & Footwear\", title = 'CPI Variance for Clothing & Footwear in Canada and USA')\n",
    "(variance_groceries_CPI & CPI_variance_clothing).configure_axis(grid=False)"
   ]
  },
  {
   "cell_type": "code",
   "execution_count": null,
   "metadata": {},
   "outputs": [],
   "source": [
    "((US_chart_clothing_trend | clothing_chart_clothing_US_trend) & (USA_leather | Apparel_Canada)).properties(title = alt.TitleParams(text = 'Clothing & Footwear Inflation and Supply and Demand', subtitle = 'The tariffs impact caused a rise in inflation which, in the post period seemed to affect Canada more than America, particularly in regards to manufacturing')).save('US_Canada_Clothing_Inflation_Supply_Demand.html')\n",
    "display(((US_chart_clothing_trend | clothing_chart_clothing_US_trend) & (USA_leather | Apparel_Canada)).configure_axis(grid=False).properties(title = alt.TitleParams(text = 'Clothing & Footwear Inflation and Supply and Demand', subtitle = 'The tariffs impact caused a rise in inflation which, in the post period seemed to affect Canada more than America, particularly in regards to manufacturing')))"
   ]
  },
  {
   "cell_type": "markdown",
   "metadata": {},
   "source": []
  },
  {
   "cell_type": "markdown",
   "metadata": {},
   "source": []
  },
  {
   "cell_type": "code",
   "execution_count": null,
   "metadata": {},
   "outputs": [],
   "source": [
    "print(\"USA Clothing & Footwear\")\n",
    "for column in df_USA_CPI_Scaled[df_USA_CPI_Scaled['Category'] == 'Clothing and footwear']['Products and product groups'].unique():\n",
    "    print(column)\n",
    "\n",
    "print(\"Canada Clothing & Footwear\")\n",
    "for column in df_Canada_CPI_Scaled[df_Canada_CPI_Scaled['Category'] == 'Clothing and footwear']['Products and product groups'].unique():\n",
    "    print(column)\n"
   ]
  },
  {
   "cell_type": "code",
   "execution_count": null,
   "metadata": {},
   "outputs": [],
   "source": [
    "US_women = [\"Women apparel\",\n",
    "\"Women dresses\",\n",
    "\"Women footwear\",\n",
    "\"Women outerwear\",\n",
    "\"Women suits and separates\",\n",
    "\"Women underwear, nightwear, swimwear, and accessories\"]\n",
    "Canada_Jewellery = [\"Jewellery\"]\n",
    "\n",
    "US_Jewelry = ['Jewelry']\n",
    "Canada_women = [\n",
    "    \"Women clothing\",\n",
    "    \"Women footwear (excluding athletic)\"\n",
    "]\n",
    "\n",
    "Canada_children = [\n",
    "    \"Children clothing\",\n",
    "    \"Children footwear (excluding athletic)\"\n",
    "]\n",
    "\n",
    "df_Canada_CPI_Scaled_clean = df_Canada_CPI_Scaled.copy()\n",
    "df_Canada_CPI_Scaled_clean['Products and product groups'] = df_Canada_CPI_Scaled_clean['Products and product groups'].str.replace('\\'s', '')\n",
    "df_Canada_CPI_Scaled_clean['Products and product groups'] = df_Canada_CPI_Scaled_clean['Products and product groups'].str.replace('\\'', '')\n",
    "df_USA_CPI_Scaled_clean = df_USA_CPI_Scaled.copy()\n",
    "df_USA_CPI_Scaled_clean['Products and product groups'] = df_USA_CPI_Scaled_clean['Products and product groups'].str.replace('\\'s', '')\n",
    "df_USA_CPI_Scaled_clean['Products and product groups'] = df_USA_CPI_Scaled_clean['Products and product groups'].str.replace('\\'', '')\n",
    "\n",
    "US_children = [\"Infants and toddlers apparel\"]\n",
    "\n",
    "def mask_category(df, category_list):\n",
    "    for count, cat in enumerate(category_list):\n",
    "        if count ==0:\n",
    "            mask =(df['Products and product groups'] == cat)\n",
    "        else:\n",
    "            mask = mask | (df['Products and product groups'] == cat)\n",
    "    return mask\n",
    "US_women_category = mask_category(df_USA_CPI_Scaled_clean, US_women)\n",
    "Canada_women_category = mask_category(df_Canada_CPI_Scaled_clean, Canada_women)\n",
    "Canada_children_category = mask_category(df_Canada_CPI_Scaled_clean, Canada_children)\n",
    "US_children_category = mask_category(df_USA_CPI_Scaled_clean, US_children)\n",
    "US_Jewelry_category = mask_category(df_USA_CPI_Scaled_clean, US_Jewelry)\n",
    "Canada_Jewellery_category = mask_category(df_Canada_CPI_Scaled_clean, Canada_Jewellery)\n",
    "\n",
    "US_woman_data = df_USA_CPI_Scaled_clean[US_women_category]\n",
    "US_woman_data.drop(columns = ['Products and product groups'], inplace\n",
    "=True)\n",
    "US_woman_data = US_woman_data.groupby(['REF_DATE', 'Category']).mean().reset_index()\n",
    "US_woman_data['Country'] = ['USA']*len(US_woman_data)\n",
    "US_woman_data['Category'] = ['Women']*len(US_woman_data)\n",
    "\n",
    "US_Jewelry_data = df_USA_CPI_Scaled_clean[US_Jewelry_category]\n",
    "US_Jewelry_data.drop(columns = ['Products and product groups'], inplace=True)\n",
    "US_Jewelry_data = US_Jewelry_data.groupby(['REF_DATE', 'Category']).mean().reset_index()\n",
    "US_Jewelry_data['Country'] = ['USA']*len(US_Jewelry_data)\n",
    "US_Jewelry_data['Category'] = ['Jewelry']*len(US_Jewelry_data)\n",
    "\n",
    "US_children_data = df_USA_CPI_Scaled_clean[US_children_category]\n",
    "US_children_data.drop(columns = ['Products and product groups'], inplace=True)\n",
    "US_children_data = US_children_data.groupby(['REF_DATE', 'Category']).mean().reset_index()\n",
    "US_children_data['Country'] = ['USA']*len(US_children_data)\n",
    "US_children_data['Category'] = ['Child']*len(US_children_data)\n",
    "\n",
    "Canada_woman_data = df_Canada_CPI_Scaled_clean[Canada_women_category]\n",
    "Canada_woman_data.drop(columns = ['Products and product groups'], inplace\n",
    "=True)\n",
    "\n",
    "\n",
    "Canada_woman_data = Canada_woman_data.groupby(['REF_DATE', 'Category']).mean().reset_index()\n",
    "Canada_woman_data['Country'] = ['Canada']*len(Canada_woman_data)\n",
    "Canada_woman_data['Category'] = ['Women']*len(Canada_woman_data)\n",
    "\n",
    "Canada_Jewelry_data = df_Canada_CPI_Scaled_clean[Canada_Jewellery_category]\n",
    "Canada_Jewelry_data.drop(columns = ['Products and product groups'], inplace=True)\n",
    "Canada_Jewelry_data = Canada_Jewelry_data.groupby(['REF_DATE', 'Category']).mean().reset_index()\n",
    "Canada_Jewelry_data['Country'] = ['Canada']*len(Canada_Jewelry_data)\n",
    "Canada_Jewelry_data['Category'] = ['Jewelry']*len(Canada_Jewelry_data)\n",
    "\n",
    "\n",
    "Canada_children_data = df_Canada_CPI_Scaled_clean[Canada_children_category]\n",
    "Canada_children_data.drop(columns = ['Products and product groups'], inplace=True)\n",
    "Canada_children_data = Canada_children_data.groupby(['REF_DATE', 'Category']).mean().reset_index()\n",
    "Canada_children_data['Country'] = ['Canada']*len(Canada_children_data)\n",
    "Canada_children_data['Category'] = ['Child']*len(Canada_children_data)\n",
    "\n",
    "df_clothing_US = pd.concat([US_woman_data, US_Jewelry_data, US_children_data])\n",
    "df_clothing_Canada = pd.concat([Canada_woman_data, Canada_Jewelry_data, Canada_children_data], axis = 0)\n",
    "\n",
    "df_clothing = pd.concat([df_clothing_US, df_clothing_Canada], axis = 0)\n",
    "\n",
    "print(df_clothing.tail())\n",
    "def plot_clothing(df, product):\n",
    "    df_cat = df.copy()[df['Category']==product]\n",
    "    df_cat = df_cat[(df_cat['REF_DATE']>='2017-01-01') & (df_cat['REF_DATE']<='2020-02-01')]\n",
    "    chart1 = alt.Chart(df_cat).mark_line().encode(\n",
    "        x='REF_DATE',\n",
    "        y='VALUE',\n",
    "        color='Country'\n",
    "    ).properties(title = product)\n",
    "    return chart1\n",
    "\n",
    "\n",
    "\n",
    "\n"
   ]
  },
  {
   "cell_type": "code",
   "execution_count": null,
   "metadata": {},
   "outputs": [],
   "source": [
    "plot_clothing(df_clothing, 'Jewelry')"
   ]
  },
  {
   "cell_type": "code",
   "execution_count": null,
   "metadata": {},
   "outputs": [],
   "source": [
    "plot_clothing(df_clothing, 'Child')"
   ]
  },
  {
   "cell_type": "code",
   "execution_count": null,
   "metadata": {},
   "outputs": [],
   "source": [
    "plot_clothing(df_clothing, 'Women')"
   ]
  },
  {
   "cell_type": "code",
   "execution_count": null,
   "metadata": {},
   "outputs": [],
   "source": [
    "import numpy as np\n",
    "df_clothing_women = df_clothing.copy()[(df_clothing['Category']=='Women') & ((df_clothing['Country']=='Canada') | (df_clothing['Country']=='USA'))]\n",
    "df_clothing_women = df_clothing_women.copy()[['REF_DATE', 'Country', 'VALUE']]\n",
    "from sklearn.preprocessing import StandardScaler\n",
    "\n",
    "scale = StandardScaler()\n",
    "\n",
    "def std_group(group):\n",
    "    scale = StandardScaler()\n",
    "    value = scale.fit_transform(group['VALUE'].values.reshape(-1, 1))\n",
    "    return value[0][0]\n",
    "df_clothing_women = df_clothing_women.groupby(['REF_DATE', 'Country']).apply(lambda x: std_group(x)).reset_index()\n",
    "\n",
    "Canada_woman_CPI = df_Canada_CPI_Scaled[Canada_women_category]\n",
    "Canada_woman_CPI = Canada_woman_CPI[['REF_DATE', 'VALUE']]\n",
    "Canada_woman_CPI['Country'] = len(Canada_woman_CPI)*['Canada']\n",
    "US_woman_CPI = df_USA_CPI_Scaled[US_women_category]\n",
    "US_woman_CPI['Country'] = len(US_woman_CPI)*['USA']\n",
    "US_woman_CPI = US_woman_CPI[['REF_DATE', 'VALUE', 'Country']]\n",
    "US_woman_CPI = US_woman_CPI.groupby(['REF_DATE', 'Country']).std().reset_index()\n",
    "Canada_woman_CPI = Canada_woman_CPI[['REF_DATE', 'VALUE', 'Country']]\n",
    "Canada_woman_CPI = Canada_woman_CPI.groupby(['REF_DATE', 'Country']).std().reset_index()\n",
    "df_clothing_wom = pd.concat([US_woman_CPI, Canada_woman_CPI], axis = 0)\n",
    "# df_clothing_wom = df_clothing_wom[(df_clothing_wom['REF_DATE']>='2017-01-01')&(df_clothing_wom['REF_DATE']<='2020-02-01')]\n",
    "alt.Chart(df_clothing_wom).mark_line().encode(\n",
    "    x = 'REF_DATE',\n",
    "    y = 'VALUE',\n",
    "    color = 'Country'\n",
    ")\n",
    "\n"
   ]
  },
  {
   "cell_type": "code",
   "execution_count": null,
   "metadata": {},
   "outputs": [],
   "source": [
    "for uniq_product in df_Canada_Number_Groceries['North American Industry Classification System (NAICS)'].unique():\n",
    "    print(uniq_product) "
   ]
  },
  {
   "cell_type": "code",
   "execution_count": null,
   "metadata": {},
   "outputs": [],
   "source": [
    "from sklearn.preprocessing import StandardScaler\n",
    "scale = StandardScaler()\n",
    "df_clothing_canada_sales = df_Canada_Number_Groceries[(df_Canada_Number_Groceries['Sales'] == 'Total retail sales') & (df_Canada_Number_Groceries['North American Industry Classification System (NAICS)'] == 'Clothing, clothing accessories, shoes, jewelry, luggage and leather goods retailers [458]')]\n",
    "df_clothing_canada_sales['VALUE'] = scale.fit_transform(df_clothing_canada_sales['VALUE'].values.reshape(-1, 1))\n",
    "alt.Chart(df_clothing_canada_sales).mark_line().encode(\n",
    "    x = 'REF_DATE',\n",
    "    y = 'VALUE',\n",
    "    \n",
    ")"
   ]
  },
  {
   "cell_type": "code",
   "execution_count": null,
   "metadata": {},
   "outputs": [],
   "source": [
    "woman_clothing_US_sales = pd.read_csv('../data/raw/MRTSSM44812USS.csv')\n"
   ]
  },
  {
   "cell_type": "code",
   "execution_count": null,
   "metadata": {},
   "outputs": [],
   "source": [
    "woman_clothing_US_sales.head()"
   ]
  },
  {
   "cell_type": "code",
   "execution_count": null,
   "metadata": {},
   "outputs": [],
   "source": [
    "scale = StandardScaler()\n",
    "woman_clothing_US_sales['MRTSSM44812USS'] = scale.fit_transform(woman_clothing_US_sales['MRTSSM44812USS'].values.reshape(-1, 1))\n",
    "alt.Chart(woman_clothing_US_sales).mark_line().encode(\n",
    "    x = 'observation_date',\n",
    "    y = 'MRTSSM44812USS',\n",
    ")"
   ]
  },
  {
   "cell_type": "code",
   "execution_count": null,
   "metadata": {},
   "outputs": [],
   "source": [
    "US_sales_groceries_clothing = pd.read_csv(\"../data/raw/ClothingGroceriesUSSalesData.csv\")"
   ]
  },
  {
   "cell_type": "code",
   "execution_count": null,
   "metadata": {},
   "outputs": [],
   "source": [
    "\n",
    "\n",
    "US_sales_groceries_clothing['Clothing Sales'] = US_sales_groceries_clothing['Clothing Sales'].str.replace(',', '')  \n",
    "US_sales_groceries_clothing['Grocery Sales'] = US_sales_groceries_clothing['Grocery Sales'].str.replace(',', '')\n",
    "US_sales_groceries_clothing['Clothing Sales'] = US_sales_groceries_clothing['Clothing Sales'].astype(float)\n",
    "US_sales_groceries_clothing['Grocery Sales'] = US_sales_groceries_clothing['Grocery Sales'].astype(float)\n",
    "print(US_sales_groceries_clothing.head())"
   ]
  },
  {
   "cell_type": "code",
   "execution_count": null,
   "metadata": {},
   "outputs": [],
   "source": [
    "US_sales_groceries_clothing['REF_DATE'] = pd.to_datetime(US_sales_groceries_clothing['Date'])"
   ]
  },
  {
   "cell_type": "code",
   "execution_count": null,
   "metadata": {},
   "outputs": [],
   "source": [
    "scale = StandardScaler()\n",
    "US_sales_groceries_clothing['Clothing Sales'] = scale.fit_transform(US_sales_groceries_clothing['Clothing Sales'].values.reshape(-1, 1))\n",
    "US_sales_groceries_clothing['Grocery Sales'] = scale.fit_transform(US_sales_groceries_clothing['Grocery Sales'].values.reshape(-1, 1))\n",
    "US_sales_groceries = US_sales_groceries_clothing[['REF_DATE', 'Grocery Sales']]\n",
    "US_sales_groceries['Category'] = ['Shelter']*len(US_sales_groceries)\n",
    "US_sales_groceries['VALUE'] = US_sales_groceries['Grocery Sales']\n",
    "alt.Chart(US_sales_groceries_clothing).mark_line().encode(\n",
    "    x = 'REF_DATE',\n",
    "    y = 'Clothing Sales',\n",
    "    \n",
    ")"
   ]
  },
  {
   "cell_type": "code",
   "execution_count": null,
   "metadata": {},
   "outputs": [],
   "source": [
    "alt.Chart(US_sales_groceries_clothing).mark_line().encode(\n",
    "    x = 'REF_DATE',\n",
    "    y = alt.Y('Clothing Month Difference', title = 'Clothing 12 month difference for Inventory to Sales ratio')\n",
    "    \n",
    ")"
   ]
  },
  {
   "cell_type": "code",
   "execution_count": null,
   "metadata": {},
   "outputs": [],
   "source": [
    "alt.Chart(US_sales_groceries_clothing).mark_line().encode(\n",
    "    x = 'REF_DATE',\n",
    "    y = 'Grocery Sales',\n",
    "    \n",
    ").interactive()"
   ]
  },
  {
   "cell_type": "code",
   "execution_count": null,
   "metadata": {},
   "outputs": [],
   "source": [
    "df_num_sales_Canada = pd.read_csv(\"../data/raw/egg_dataset.csv\")\n",
    "\n",
    "df_num_sales_Canada['VALUE'] = df_num_sales_Canada['VALUE'].str.replace(',', '')\n",
    "df_num_sales_Canada['VALUE'] = df_num_sales_Canada['VALUE'].astype(float)"
   ]
  },
  {
   "cell_type": "code",
   "execution_count": null,
   "metadata": {},
   "outputs": [],
   "source": [
    "df_num_sales_Canada['Month'] = df_num_sales_Canada['Date'].str.split('-').str[0]\n",
    "dict_month = {'Jan': '01', 'Feb': '02', 'Mar': '03', 'Apr': '04', 'May': '05', 'Jun': '06', 'Jul': '07', 'Aug': '08', 'Sep': '09', 'Oct': '10', 'Nov': '11', 'Dec': '12'}\n",
    "df_num_sales_Canada['Month'] = df_num_sales_Canada['Month'].map(dict_month)\n",
    "\n",
    "df_num_sales_Canada['Year'] = ['20']*len(df_num_sales_Canada) + df_num_sales_Canada['Date'].str.split('-').str[1]\n",
    "df_num_sales_Canada['Day'] = ['01']*len(df_num_sales_Canada)\n",
    "df_num_sales_Canada['REF_DATE'] = pd.to_datetime(df_num_sales_Canada[['Year', 'Month', 'Day']])\n"
   ]
  },
  {
   "cell_type": "code",
   "execution_count": null,
   "metadata": {},
   "outputs": [],
   "source": []
  },
  {
   "cell_type": "code",
   "execution_count": null,
   "metadata": {},
   "outputs": [],
   "source": [
    "\n",
    "for num in range(2, 58):\n",
    "    df_num_sales_Canada = df_num_sales_Canada.drop(columns = ['Unnamed: '+str(num)])\n",
    "scaler = StandardScaler()\n",
    "df_num_sales_Canada['VALUE'] = scaler.fit_transform(df_num_sales_Canada['VALUE'].values.reshape(-1, 1))\n",
    "df_num_sales_Canada['Category'] = ['Eggs']*len(df_num_sales_Canada)\n",
    "alt.Chart(df_num_sales_Canada).mark_line().encode(\n",
    "    x = 'REF_DATE',\n",
    "    y = 'VALUE',\n",
    "    \n",
    ").interactive()\n",
    "print(df_num_sales_Canada.head(50))"
   ]
  },
  {
   "cell_type": "code",
   "execution_count": null,
   "metadata": {},
   "outputs": [],
   "source": [
    "Sales_Canada_Groceries = pd.read_csv('../data/raw/20100082.csv')\n",
    "Sales_Canada_Groceries['Month'] = Sales_Canada_Groceries['REF_DATE'].str.split('-').str[0]\n",
    "Sales_Canada_Groceries['Month'] = Sales_Canada_Groceries['Month'].map(dict_month)\n",
    "\n",
    "Sales_Canada_Groceries['Year'] = ['20']*len(Sales_Canada_Groceries) + Sales_Canada_Groceries['REF_DATE'].str.split('-').str[1]\n",
    "Sales_Canada_Groceries['Day'] = ['01']*len(Sales_Canada_Groceries)\n",
    "Sales_Canada_Groceries['REF_DATE'] = pd.to_datetime(Sales_Canada_Groceries[['Year', 'Month', 'Day']])\n"
   ]
  },
  {
   "cell_type": "code",
   "execution_count": null,
   "metadata": {},
   "outputs": [],
   "source": [
    "Sales_Canada_Groceries['Category'] = Sales_Canada_Groceries['North American Industry Classification System (NAICS)']\n",
    "\n",
    "print(Sales_Canada_Groceries['Category'].unique())\n",
    "\n",
    "Sales_Canada_Clothing = Sales_Canada_Groceries[Sales_Canada_Groceries['Category'] == 'Clothing and clothing accessories retailers [4581]']\n",
    "\n",
    "alt.Chart(Sales_Canada_Clothing).mark_point().encode(\n",
    "    x = 'REF_DATE',\n",
    "    y = 'VALUE',\n",
    "    \n",
    ").interactive()"
   ]
  },
  {
   "cell_type": "code",
   "execution_count": null,
   "metadata": {},
   "outputs": [],
   "source": [
    "regression_discontinuity_sales_canada_groceries, _, _, _ = regression_discontinuity_model(Sales_Canada_Groceries, 'Supermarkets and other grocery retailers (except convenience retailers) [44511]', pd.Timestamp('2017-10-01'), pd.Timestamp('2019-12-01'), pd.Timestamp('2018-07-01'), pd.Timestamp('2018-10-01'), point_line='point')\n",
    "\n",
    "regression_discontinuity_sales_canada_eggs, _, _, _ = regression_discontinuity_model(df_num_sales_Canada, 'Eggs', pd.Timestamp('2018-03-01'), pd.Timestamp('2019-12-01'), pd.Timestamp('2019-05-01'))\n",
    "\n",
    "regression_discontinuity_sales_canada_eggs_IP, _, _, _ = regression_discontinuity_model(df_num_sales_Canada, 'Eggs', pd.Timestamp('2017-10-01'), pd.Timestamp('2019-05-01'), pd.Timestamp('2018-03-01'))\n",
    "\n",
    "regression_discontinuity_sales_usa_groceries, _, _, _ = regression_discontinuity_model(US_sales_groceries, 'Shelter', pd.Timestamp('2017-10-01'), pd.Timestamp('2019-12-01'), pd.Timestamp('2018-02-01'), pd.Timestamp('2018-04-01'))\n",
    "\n",
    "\n",
    "\n",
    "print(regression_discontinuity_sales_canada_groceries.summary())\n",
    "print(regression_discontinuity_sales_canada_eggs.summary())\n",
    "print(regression_discontinuity_sales_canada_eggs_IP.summary())\n",
    "print(regression_discontinuity_sales_usa_groceries.summary())\n"
   ]
  },
  {
   "cell_type": "markdown",
   "metadata": {},
   "source": []
  },
  {
   "cell_type": "code",
   "execution_count": null,
   "metadata": {},
   "outputs": [],
   "source": [
    "#It seems clothing and footwear have a seasonal impact for both countries but\n",
    "#The american market seemed less impacted by the tariffs and while clothing did appear to reduce supply, the abundance of normal clothing perhaps was able to account for it. In fact it appears manufacturing was not completely impacted except for month to month during tariffs until near COVID period.\n",
    "#The american clothing market inflation increased during the treatment period due to American tariffs which may have been beneficial for the clothing industry but this was reversed by Canadian tariffs.    \n",
    "#The Canadian market for clothing and footwear was more impacted by the tariffs and the recovery was not as strong as the American market - the impact of the tariffs from Trump had an estimated effect in March 2019 due to the high supply of clothing already in retail stores. \n",
    "#In other words, manufacturing for clothing was affected by August 2018 but impact on retail stores was not until March 2019 and was very disrupted near COVID period.\n",
    "\n",
    "\n"
   ]
  },
  {
   "cell_type": "code",
   "execution_count": null,
   "metadata": {},
   "outputs": [],
   "source": [
    "#This ends the groceries and clothing/footwear section of our analysis."
   ]
  },
  {
   "cell_type": "code",
   "execution_count": null,
   "metadata": {},
   "outputs": [],
   "source": []
  }
 ],
 "metadata": {
  "kernelspec": {
   "display_name": "Python 3",
   "language": "python",
   "name": "python3"
  },
  "language_info": {
   "codemirror_mode": {
    "name": "ipython",
    "version": 3
   },
   "file_extension": ".py",
   "mimetype": "text/x-python",
   "name": "python",
   "nbconvert_exporter": "python",
   "pygments_lexer": "ipython3",
   "version": "3.11.9"
  }
 },
 "nbformat": 4,
 "nbformat_minor": 2
}
