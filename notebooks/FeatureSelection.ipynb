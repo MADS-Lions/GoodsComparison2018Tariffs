{
 "cells": [
  {
   "cell_type": "code",
   "execution_count": 8,
   "metadata": {},
   "outputs": [],
   "source": [
    "import pandas as pd\n",
    "\n",
    "import importlib\n",
    "import sys\n",
    "sys.path.append('../src')\n",
    "import features\n",
    "importlib.reload(features)\n",
    "from features import *\n",
    "\n"
   ]
  },
  {
   "cell_type": "code",
   "execution_count": 2,
   "metadata": {},
   "outputs": [],
   "source": [
    "Canada_CPI = pd.read_csv(\"../data/processed/Canada_CPI_Processed_2018_2019.csv\")\n",
    "USA_CPI = pd.read_csv(\"../data/processed/USA_CPI_Processed_2018_2019.csv\")"
   ]
  },
  {
   "cell_type": "code",
   "execution_count": 3,
   "metadata": {},
   "outputs": [
    {
     "data": {
      "text/html": [
       "<div>\n",
       "<style scoped>\n",
       "    .dataframe tbody tr th:only-of-type {\n",
       "        vertical-align: middle;\n",
       "    }\n",
       "\n",
       "    .dataframe tbody tr th {\n",
       "        vertical-align: top;\n",
       "    }\n",
       "\n",
       "    .dataframe thead th {\n",
       "        text-align: right;\n",
       "    }\n",
       "</style>\n",
       "<table border=\"1\" class=\"dataframe\">\n",
       "  <thead>\n",
       "    <tr style=\"text-align: right;\">\n",
       "      <th></th>\n",
       "      <th>Products and product groups</th>\n",
       "      <th>REF_DATE</th>\n",
       "      <th>VALUE</th>\n",
       "    </tr>\n",
       "  </thead>\n",
       "  <tbody>\n",
       "    <tr>\n",
       "      <th>0</th>\n",
       "      <td>Air transportation</td>\n",
       "      <td>2017-01-01</td>\n",
       "      <td>134.8</td>\n",
       "    </tr>\n",
       "    <tr>\n",
       "      <th>1</th>\n",
       "      <td>Air transportation</td>\n",
       "      <td>2017-02-01</td>\n",
       "      <td>135.2</td>\n",
       "    </tr>\n",
       "    <tr>\n",
       "      <th>2</th>\n",
       "      <td>Air transportation</td>\n",
       "      <td>2017-03-01</td>\n",
       "      <td>133.7</td>\n",
       "    </tr>\n",
       "    <tr>\n",
       "      <th>3</th>\n",
       "      <td>Air transportation</td>\n",
       "      <td>2017-04-01</td>\n",
       "      <td>134.7</td>\n",
       "    </tr>\n",
       "    <tr>\n",
       "      <th>4</th>\n",
       "      <td>Air transportation</td>\n",
       "      <td>2017-05-01</td>\n",
       "      <td>139.4</td>\n",
       "    </tr>\n",
       "  </tbody>\n",
       "</table>\n",
       "</div>"
      ],
      "text/plain": [
       "  Products and product groups    REF_DATE  VALUE\n",
       "0          Air transportation  2017-01-01  134.8\n",
       "1          Air transportation  2017-02-01  135.2\n",
       "2          Air transportation  2017-03-01  133.7\n",
       "3          Air transportation  2017-04-01  134.7\n",
       "4          Air transportation  2017-05-01  139.4"
      ]
     },
     "execution_count": 3,
     "metadata": {},
     "output_type": "execute_result"
    }
   ],
   "source": [
    "Canada_CPI.head()"
   ]
  },
  {
   "cell_type": "code",
   "execution_count": 4,
   "metadata": {},
   "outputs": [],
   "source": [
    "#Tariffs from Canada were applied to a multitude of products for USA products coming into canada from 2018-2019\n",
    "#Tariffs from USA were applied to a multitude of products for Canada products coming into USA from 2018-2019\n",
    "#Tariffs from China were applied to a multitude of products for USA products coming into China from 2018-2019\n",
    "\n",
    "#Each of these tariffs are likely to effect goods and services in both Canada and USA due to the interconnectedness of our economies"
   ]
  },
  {
   "cell_type": "code",
   "execution_count": null,
   "metadata": {},
   "outputs": [],
   "source": [
    "#Here are a list of features that may be relevant to the analysis of the effect of tariffs on CPI\n",
    "\n",
    "feature_Canadian_goods_and_services_tariffed_to_investigate = [\"All-items\", \"Canned vegetables and other vegetable preparations\", \"Cigarettes\", \"City bus and subway transportation\", \"Coffee\", \"Communications\", \"Condiments, spices and vinegars\", \"Cooking appliances\", \"Dental care services\", \"Detergents and soaps (other than personal care)\", \"Digital computing equipment and devices\", \"Durable goods\", \"Electricity\", \"Energy\", \"Food\", \"Food and energy\", \"Fresh fruit\", \"Fresh fruit and vegetables\", \"Fresh or frozen meat (excluding poultry)\", \"Fresh vegetables\", \"Frozen food preparations\", \"Fruit juices\", \"Fruit, fruit preparations and nuts\", \"Fuel oil and other fuels\", \"Fuel, parts and accessories for recreational vehicles\", \"Furniture\", \"Furniture and household textiles\", \"Gasoline\", \"Goods\", \"Goods excluding food purchased from stores and energy\", \"Home entertainment equipment, parts and services\", \"Homeowners’ maintenance and repairs\", \"Homeowners’ replacement cost\", \"Household appliances\", \"Household cleaning products\", \"Household furnishings and equipment\", \"Household operations\", \"Household operations, furnishings and equipment\", \"Laundry and dishwashing appliances\", \"Laundry services\", \"Meat\", \"Natural gas\", \"Non-durable goods\", \"Non-durable goods excluding food purchased from stores and energy\", \"Non-electric kitchen utensils, tableware and cookware\", \"Nuts and seeds\", \"Other food preparations\", \"Other fresh fruit\", \"Other fresh or frozen meat (excluding poultry)\", \"Other health care goods\",  \"Other household appliances\", \"Other household cleaning products\", \"Other household equipment\", \"Other household goods and services\", \"Other household services\", \"Other household supplies\", \"Other lessons, courses and education services\", \"Other preserved fruit and fruit preparations\", \"Other recreational equipment\", \"Passenger vehicle maintenance and repair services\", \"Passenger vehicle parts, accessories and supplies\", \"Passenger vehicle parts, maintenance and repairs\", \"Personal care\", \"Personal care supplies and equipment\", \"Personal soap\", \"Private transportation\", \"Processed meat\", \"Public transportation\", \"Purchase of passenger vehicles\", \"Purchase of recreational vehicles and outboard motors\", \"Purchase, leasing and rental of passenger vehicles\", \"Rail, highway bus and other inter-city transportation\", \"Recreational equipment and services (excluding recreational vehicles)\", \"Refrigerators and freezers\", \"School textbooks and supplies\", \"Semi-durable goods\", \"Soup\", \"Taxi and other local and commuter transportation services\", \"Telephone services\", \"Transportation\", \"Upholstered furniture\", \"Vegetables and vegetable preparations\", \"Video equipment\", \"Water, fuel and electricity\"]\n",
    "feature_Canadian_goods_and_services_nontariffed_to_investigate = [\"All-items excluding food and energy\", \"All-items excluding gasoline\", \"Education\", \"Education and reading\", \"Drivers’ licences\", \"Health and personal care\", \"Health care\", \"Health care goods\", \"Health care services\", \"Other health care services\"]\n",
    "feature_USA_goods_and_services_tariffed_to_investigate = [\"All items\", \"All items less medical care\", \"Appliances\", \"Cable, satellite, and live streaming television service\", \"Canned fruits\", \"Canned fruits and vegetables\", \"Canned vegetables\", \"Coffee\", \"Commodities\", \"Communication\", \"Dental services\", \"Durables\", \"Education\", \"Electricity\", \"Energy\", \"Energy commodities\", \"Energy services\", \"Food and beverages\", \"Fresh fruits\", \"Fresh fruits and vegetables\", \"Frozen and freeze dried prepared foods\", \"Fruits and vegetables\", \"Fuel oil and other fuels\", \"Fuels and utilities\", \"Gasoline (all types)\", \"Gasoline, unleaded midgrade\", \"Gasoline, unleaded premium\", \"Gasoline, unleaded regular\", \"Household energy\", \"Household furnishings and operations\", \"Household furnishings and supplies\", \"Juices and nonalcoholic drinks\", \"Meats\", \"Meats, poultry, and fish\", \"Meats, poultry, fish, and eggs\", \"Motor fuel\", \"New and used motor vehicles\", \"New cars\", \"New trucks\", \"New vehicles\", \"Nondurables\", \"Nondurables less food and apparel\", \"Nondurables less food, beverages, and apparel\", \"Nonelectric cookware and tableware\", \"Nonfrozen noncarbonated juices and drinks\",  \"Other condiments\", \"Other household equipment and furnishings\", \"Other intercity transportation\", \"Other sweets\", \"Other video equipment\", \"Prepared salads\", \"Private transportation\", \"Processed fruits and vegetables\",  \"Propane, kerosene, and firewood\", \"Public transportation\", \"Roasted coffee\", \"Salad dressing\", \"Services less energy services\", \"Services less medical care services\", \"Soups\", \"Spices, seasonings, condiments, sauces\", \"Televisions\", \"Tools, hardware, outdoor equipment and supplies\", \"Transportation\", \"Transportation commodities less motor fuel\", \"Used cars and trucks\", \"Utilities and public transportation\", \"Utility (piped) gas service\", \"Video and audio\"]\n",
    "feature_USA_goods_and_services_nontariffed_to_investigate = [\"All items less food, shelter, energy, and used cars and trucks\", \"Commodities less food, energy, and used cars and trucks\", \"Medical care\", \"Medical care services\", \"Nursing homes and adult day services\", \"Professional services\"]\n"
   ]
  }
 ],
 "metadata": {
  "kernelspec": {
   "display_name": "Python 3",
   "language": "python",
   "name": "python3"
  },
  "language_info": {
   "codemirror_mode": {
    "name": "ipython",
    "version": 3
   },
   "file_extension": ".py",
   "mimetype": "text/x-python",
   "name": "python",
   "nbconvert_exporter": "python",
   "pygments_lexer": "ipython3",
   "version": "3.9.6"
  }
 },
 "nbformat": 4,
 "nbformat_minor": 2
}
