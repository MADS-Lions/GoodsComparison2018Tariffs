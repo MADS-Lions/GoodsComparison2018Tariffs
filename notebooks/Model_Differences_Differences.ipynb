{
 "cells": [
  {
   "cell_type": "code",
   "execution_count": 2,
   "metadata": {},
   "outputs": [],
   "source": [
    "import pandas as pd\n",
    "\n",
    "df_model_data_CAN = pd.read_csv('../data/processed/CAN_Categorized_Products_and_Services.csv')\n",
    "df_model_data_USA = pd.read_csv('../data/processed/US_Categorized_Products_and_Services.csv')"
   ]
  },
  {
   "cell_type": "code",
   "execution_count": 3,
   "metadata": {},
   "outputs": [
    {
     "data": {
      "text/html": [
       "<div>\n",
       "<style scoped>\n",
       "    .dataframe tbody tr th:only-of-type {\n",
       "        vertical-align: middle;\n",
       "    }\n",
       "\n",
       "    .dataframe tbody tr th {\n",
       "        vertical-align: top;\n",
       "    }\n",
       "\n",
       "    .dataframe thead th {\n",
       "        text-align: right;\n",
       "    }\n",
       "</style>\n",
       "<table border=\"1\" class=\"dataframe\">\n",
       "  <thead>\n",
       "    <tr style=\"text-align: right;\">\n",
       "      <th></th>\n",
       "      <th>Product_Service</th>\n",
       "      <th>Category</th>\n",
       "    </tr>\n",
       "  </thead>\n",
       "  <tbody>\n",
       "    <tr>\n",
       "      <th>0</th>\n",
       "      <td>Air transportation</td>\n",
       "      <td>Transportation</td>\n",
       "    </tr>\n",
       "    <tr>\n",
       "      <th>1</th>\n",
       "      <td>Alcoholic beverages</td>\n",
       "      <td>Alcohol &amp; Tobacco</td>\n",
       "    </tr>\n",
       "    <tr>\n",
       "      <th>2</th>\n",
       "      <td>Alcoholic beverages purchased from stores</td>\n",
       "      <td>Alcohol &amp; Tobacco</td>\n",
       "    </tr>\n",
       "    <tr>\n",
       "      <th>3</th>\n",
       "      <td>Alcoholic beverages served in licensed establi...</td>\n",
       "      <td>Alcohol &amp; Tobacco</td>\n",
       "    </tr>\n",
       "    <tr>\n",
       "      <th>4</th>\n",
       "      <td>Alcoholic beverages, tobacco products and recr...</td>\n",
       "      <td>Alcohol &amp; Tobacco</td>\n",
       "    </tr>\n",
       "  </tbody>\n",
       "</table>\n",
       "</div>"
      ],
      "text/plain": [
       "                                     Product_Service           Category\n",
       "0                                 Air transportation     Transportation\n",
       "1                                Alcoholic beverages  Alcohol & Tobacco\n",
       "2          Alcoholic beverages purchased from stores  Alcohol & Tobacco\n",
       "3  Alcoholic beverages served in licensed establi...  Alcohol & Tobacco\n",
       "4  Alcoholic beverages, tobacco products and recr...  Alcohol & Tobacco"
      ]
     },
     "execution_count": 3,
     "metadata": {},
     "output_type": "execute_result"
    }
   ],
   "source": [
    "df_model_data_CAN.head()"
   ]
  },
  {
   "cell_type": "code",
   "execution_count": 4,
   "metadata": {},
   "outputs": [],
   "source": [
    "df_Canada_CPI = pd.read_csv('../data/processed/Canada_CPI_Processed_2018_2019.csv')\n",
    "df_USA_CPI = pd.read_csv('../data/processed/USA_CPI_Processed_2018_2019.csv')"
   ]
  },
  {
   "cell_type": "code",
   "execution_count": 5,
   "metadata": {},
   "outputs": [
    {
     "data": {
      "text/html": [
       "<div>\n",
       "<style scoped>\n",
       "    .dataframe tbody tr th:only-of-type {\n",
       "        vertical-align: middle;\n",
       "    }\n",
       "\n",
       "    .dataframe tbody tr th {\n",
       "        vertical-align: top;\n",
       "    }\n",
       "\n",
       "    .dataframe thead th {\n",
       "        text-align: right;\n",
       "    }\n",
       "</style>\n",
       "<table border=\"1\" class=\"dataframe\">\n",
       "  <thead>\n",
       "    <tr style=\"text-align: right;\">\n",
       "      <th></th>\n",
       "      <th>Products and product groups</th>\n",
       "      <th>REF_DATE</th>\n",
       "      <th>VALUE</th>\n",
       "    </tr>\n",
       "  </thead>\n",
       "  <tbody>\n",
       "    <tr>\n",
       "      <th>0</th>\n",
       "      <td>Air transportation</td>\n",
       "      <td>2017-01-01</td>\n",
       "      <td>134.8</td>\n",
       "    </tr>\n",
       "    <tr>\n",
       "      <th>1</th>\n",
       "      <td>Air transportation</td>\n",
       "      <td>2017-02-01</td>\n",
       "      <td>135.2</td>\n",
       "    </tr>\n",
       "    <tr>\n",
       "      <th>2</th>\n",
       "      <td>Air transportation</td>\n",
       "      <td>2017-03-01</td>\n",
       "      <td>133.7</td>\n",
       "    </tr>\n",
       "    <tr>\n",
       "      <th>3</th>\n",
       "      <td>Air transportation</td>\n",
       "      <td>2017-04-01</td>\n",
       "      <td>134.7</td>\n",
       "    </tr>\n",
       "    <tr>\n",
       "      <th>4</th>\n",
       "      <td>Air transportation</td>\n",
       "      <td>2017-05-01</td>\n",
       "      <td>139.4</td>\n",
       "    </tr>\n",
       "  </tbody>\n",
       "</table>\n",
       "</div>"
      ],
      "text/plain": [
       "  Products and product groups    REF_DATE  VALUE\n",
       "0          Air transportation  2017-01-01  134.8\n",
       "1          Air transportation  2017-02-01  135.2\n",
       "2          Air transportation  2017-03-01  133.7\n",
       "3          Air transportation  2017-04-01  134.7\n",
       "4          Air transportation  2017-05-01  139.4"
      ]
     },
     "execution_count": 5,
     "metadata": {},
     "output_type": "execute_result"
    }
   ],
   "source": [
    "df_Canada_CPI.head()"
   ]
  },
  {
   "cell_type": "code",
   "execution_count": 15,
   "metadata": {},
   "outputs": [
    {
     "name": "stdout",
     "output_type": "stream",
     "text": [
      "{'Air transportation': 'Transportation', 'Alcoholic beverages': 'Alcohol & Tobacco', 'Alcoholic beverages purchased from stores': 'Alcohol & Tobacco', 'Alcoholic beverages served in licensed establishments': 'Alcohol & Tobacco', 'Alcoholic beverages, tobacco products and recreational cannabis': 'Alcohol & Tobacco', 'Apples': 'Groceries', 'Area rugs and mats': 'Furniture & Home Decor', 'Athletic footwear': 'Clothing & Footwear', 'Audio equipment': 'Appliances & Equipment', 'Baby foods': 'Groceries', 'Bakery and cereal products (excluding baby food)': 'Groceries', 'Bakery products': 'Groceries', 'Bananas': 'Groceries', 'Bedding and other household textiles': 'Furniture & Home Decor', 'Beer purchased from stores': 'Alcohol & Tobacco', 'Beer served in licensed establishments': 'Alcohol & Tobacco', 'Books and reading material (excluding textbooks)': 'Education & Reading', 'Bread, rolls and buns': 'Groceries', 'Breakfast cereal and other cereal products (excluding baby food)': 'Groceries', 'Butter': 'Groceries', 'Canned and other preserved fish': 'Groceries', 'Canned vegetables and other vegetable preparations': 'Groceries', 'Cereal products (excluding baby food)': 'Groceries', 'Cheese': 'Groceries', 'Child care and housekeeping services': 'Services', 'Child care services': 'Services', \"Children's clothing\": 'Clothing & Footwear', \"Children's footwear (excluding athletic)\": 'Clothing & Footwear', 'Cigarettes': 'Alcohol & Tobacco', 'City bus and subway transportation': 'Transportation', 'Clothing': 'Clothing & Footwear', 'Clothing accessories, watches and jewellery': 'Clothing & Footwear', 'Clothing and footwear': 'Clothing & Footwear', 'Clothing material and notions': 'Clothing & Footwear', 'Clothing material, notions and services': 'Clothing & Footwear', 'Coffee': 'Groceries', 'Coffee and tea': 'Groceries', 'Communications': 'Communication', 'Condiments, spices and vinegars': 'Groceries', 'Confectionery': 'Groceries', 'Cookies and crackers': 'Groceries', 'Cooking appliances': 'Appliances & Equipment', 'Dairy products': 'Groceries', 'Dairy products and eggs': 'Groceries', 'Dental care services': 'Health & Personal Care', 'Detergents and soaps (other than personal care)': 'Household Supplies', 'Digital computing equipment and devices': 'Communication', \"Drivers' licences\": 'Transportation', 'Dry cleaning services': 'Services', 'Durable goods': '???', 'Edible fats and oils': 'Groceries', 'Education': 'Education & Reading', 'Education and reading': 'Education & Reading', 'Eggs': 'Groceries', 'Electricity': 'Energy', 'Energy': 'Housing & Utilities', 'Eye care goods': 'Health & Personal Care', 'Fish': 'Groceries', 'Fish, seafood and other marine products': 'Groceries', 'Flour and flour-based mixes': 'Groceries', 'Food': 'Groceries', 'Food and energy': 'Groceries', 'Food purchased from cafeterias and other restaurants': 'Groceries', 'Food purchased from fast food and take-out restaurants': 'Groceries', 'Food purchased from restaurants': 'Groceries', 'Food purchased from stores': 'Groceries', 'Food purchased from table-service restaurants': 'Groceries', 'Footwear': 'Clothing & Footwear', 'Fresh fruit': 'Groceries', 'Fresh fruit and vegetables': 'Groceries', 'Fresh milk': 'Groceries', 'Fresh or frozen beef': 'Groceries', 'Fresh or frozen chicken': 'Groceries', 'Fresh or frozen fish (including portions and fish sticks)': 'Groceries', 'Fresh or frozen meat (excluding poultry)': 'Groceries', 'Fresh or frozen pork': 'Groceries', 'Fresh or frozen poultry': 'Groceries', 'Fresh vegetables': 'Groceries', 'Frozen and dried vegetables': 'Groceries', 'Frozen food preparations': 'Groceries', 'Fruit juices': 'Groceries', 'Fruit, fruit preparations and nuts': 'Groceries', 'Fuel oil and other fuels': 'Energy', 'Fuel, parts and accessories for recreational vehicles': 'Energy', 'Furniture': 'Furniture & Home Decor', 'Furniture and household textiles': 'Furniture & Home Decor', 'Gasoline': 'Energy', 'Goods': '???', 'Goods and services': 'Services', 'Goods excluding food purchased from stores': 'Groceries', 'Goods excluding food purchased from stores and energy': 'Groceries', 'Ham and bacon': 'Groceries', 'Health and personal care': 'Health & Personal Care', 'Health care': 'Health & Personal Care', 'Health care goods': 'Health & Personal Care', 'Health care services': 'Health & Personal Care', 'Home entertainment equipment, parts and services': 'Appliances & Equipment', \"Homeowners' home and mortgage insurance\": 'Housing, Rent, Tax  & Insurance', \"Homeowners' maintenance and repairs\": 'Housing, Rent, Tax  & Insurance', \"Homeowners' replacement cost\": 'Housing, Rent, Tax  & Insurance', 'Household appliances': 'Appliances & Equipment', 'Household cleaning products': 'Household Supplies', 'Household equipment': 'Appliances & Equipment', 'Household furnishings and equipment': 'Furniture & Home Decor', 'Household operations': '???', 'Household operations, furnishings and equipment': '???', 'Household textiles': 'Household Supplies', 'Household tools (including lawn, garden and snow removal equipment)': 'Appliances & Equipment', 'Housekeeping services': 'Services', 'Housing (1986 definition)': '???', 'Ice cream and related products': 'Groceries', 'Insurance, licences and other services for recreational vehicles': 'Transportation', 'Inter-city transportation': 'Transportation', 'Jewellery': 'Clothing & Footwear', 'Laundry and dishwashing appliances': 'Appliances & Equipment', 'Laundry services': 'Services', 'Leasing of passenger vehicles': 'Vehicles', 'Leather clothing accessories': 'Clothing & Footwear', 'Lettuce': 'Groceries', 'Liquor purchased from stores': 'Alcohol & Tobacco', 'Liquor served in licensed establishments': 'Alcohol & Tobacco', 'Local and commuter transportation': 'Transportation', 'Magazines and periodicals': 'Education & Reading', 'Margarine': 'Groceries', 'Meat': 'Groceries', 'Medicinal and pharmaceutical products': 'Health & Personal Care', \"Men's clothing\": 'Clothing & Footwear', \"Men's footwear (excluding athletic)\": 'Clothing & Footwear', 'Mortgage interest cost': 'Housing, Rent, Tax  & Insurance', 'Natural gas': 'Energy', 'Newspapers': 'Education & Reading', 'Non-alcoholic beverages': 'Groceries', 'Non-durable goods': '???', 'Non-durable goods excluding food purchased from stores': 'Groceries', 'Non-durable goods excluding food purchased from stores and energy': 'Groceries', 'Non-electric kitchen utensils, tableware and cookware': 'Household Supplies', 'Non-prescribed medicines': 'Health & Personal Care', 'Nuts and seeds': 'Groceries', 'Operation of passenger vehicles': 'Transportation', 'Operation of recreational vehicles': 'Transportation', 'Oral-hygiene products': 'Health & Personal Care', 'Oranges': 'Groceries', 'Owned accommodation': 'Housing & Utilities', 'Paper supplies': 'Household Supplies', 'Paper, plastic and aluminum foil supplies': '???', 'Parking fees': 'Transportation', 'Passenger vehicle insurance premiums': 'Transportation', 'Passenger vehicle maintenance and repair services': 'Vehicles', 'Passenger vehicle parts, accessories and supplies': 'Vehicles', 'Passenger vehicle parts, maintenance and repairs': 'Vehicles', 'Passenger vehicle registration fees': 'Transportation', 'Pasta products': 'Groceries', 'Personal care': 'Health & Personal Care', 'Personal care services': 'Health & Personal Care', 'Personal care supplies and equipment': 'Health & Personal Care', 'Personal soap': 'Health & Personal Care', 'Pet food and supplies': 'Groceries', 'Photographic equipment and supplies': 'Appliances & Equipment', 'Plastic and aluminum foil supplies': 'Household Supplies', 'Postal and other communications services': 'Communication', 'Potatoes': 'Groceries', 'Prescribed medicines (excluding medicinal cannabis)': 'Health & Personal Care', 'Preserved fruit and fruit preparations': 'Groceries', 'Preserved vegetables and vegetable preparations': 'Groceries', 'Private transportation': 'Transportation', 'Private transportation excluding gasoline': 'Transportation', 'Processed meat': 'Groceries', 'Products and product groups': '???', 'Property taxes and other special charges': 'Housing, Rent, Tax  & Insurance', 'Public transportation': 'Transportation', 'Purchase and leasing of passenger vehicles': 'Vehicles', 'Purchase and operation of recreational vehicles': 'Vehicles', 'Purchase of digital media': 'Recreation & Entertainment', 'Purchase of passenger vehicles': 'Vehicles', 'Purchase of recreational vehicles and outboard motors': 'Vehicles', 'Purchase, leasing and rental of passenger vehicles': 'Vehicles', 'Rail, highway bus and other inter-city transportation': 'Transportation', 'Reading material (excluding textbooks)': 'Education & Reading', 'Recreation': 'Recreation & Entertainment', 'Recreation, education and reading': 'Education & Reading', 'Recreational equipment and services (excluding recreational vehicles)': 'Vehicles', 'Recreational services': 'Recreation & Entertainment', 'Refrigerators and freezers': 'Appliances & Equipment', 'Rent': 'Housing, Rent, Tax  & Insurance', 'Rental of passenger vehicles': 'Transportation', 'Rented accommodation': 'Housing, Rent, Tax  & Insurance', 'Rice and rice-based mixes': 'Groceries', 'School textbooks and supplies': 'Education & Reading', 'Seafood and other marine products': 'Groceries', 'Seeds, plants and cut flowers': 'Gardening', 'Semi-durable goods': '???', 'Services': 'Services', 'Services excluding shelter services': 'Housing, Rent, Tax  & Insurance', 'Services related to household furnishings and equipment': 'Furniture & Home Decor', 'Shelter': 'Housing, Rent, Tax  & Insurance', 'Shelter (1986 definition)': 'Housing, Rent, Tax  & Insurance', 'Soup': 'Groceries', 'Spectator entertainment (excluding video and audio subscription services)': 'Recreation & Entertainment', 'Sporting and exercise equipment': 'Appliances & Equipment', 'Sugar and confectionery': 'Groceries', 'Sugar and syrup': 'Groceries', 'Taxi and other local and commuter transportation services': 'Transportation', 'Tea': 'Groceries', 'Telephone services': 'Communication', \"Tenants' insurance premiums\": 'Housing & Utilities', \"Tenants' maintenance, repairs and other expenses\": 'Housing, Rent, Tax  & Insurance', \"Tobacco products and smokers' supplies\": 'Alcohol & Tobacco', 'Toiletry items and cosmetics': 'Health & Personal Care', 'Tomatoes': 'Groceries', 'Tools and other household equipment': 'Appliances & Equipment', 'Toys, games (excluding video games) and hobby supplies': 'Appliances & Equipment', 'Transportation': 'Transportation', 'Travel services': 'Recreation & Entertainment', 'Travel tours': 'Recreation & Entertainment', 'Traveller accommodation': 'Recreation & Entertainment', 'Tuition fees': 'Education & Reading', 'Upholstered furniture': 'Furniture & Home Decor', 'Use of recreational facilities and services': 'Recreation & Entertainment', 'Vegetables and vegetable preparations': 'Groceries', 'Video and audio subscription services': 'Recreation & Entertainment', 'Video equipment': 'Appliances & Equipment', 'Watches': 'Clothing & Footwear', 'Water': 'Utilities', 'Water, fuel and electricity': 'Energy', 'Window coverings': 'Furniture & Home Decor', 'Wine purchased from stores': 'Alcohol & Tobacco', 'Wine served in licensed establishments': 'Alcohol & Tobacco', \"Women's clothing\": 'Clothing & Footwear', \"Women's footwear (excluding athletic)\": 'Clothing & Footwear', 'Wooden furniture': 'Furniture & Home Decor'}\n"
     ]
    }
   ],
   "source": [
    "dict_CAN = df_model_data_CAN.drop_duplicates(subset=['Product_Service']).set_index('Product_Service')['Category'].to_dict()\n",
    "print(dict_CAN)\n"
   ]
  },
  {
   "cell_type": "code",
   "execution_count": 16,
   "metadata": {},
   "outputs": [
    {
     "name": "stdout",
     "output_type": "stream",
     "text": [
      "{'Air transportation': 'Transportation', 'Alcoholic beverages': 'Alcohol & Tobacco', 'Alcoholic beverages purchased from stores': 'Alcohol & Tobacco', 'Alcoholic beverages served in licensed establishments': 'Alcohol & Tobacco', 'Alcoholic beverages, tobacco products and recreational cannabis': 'Alcohol & Tobacco', 'Apples': 'Groceries', 'Area rugs and mats': 'Furniture & Home Decor', 'Athletic footwear': 'Clothing & Footwear', 'Audio equipment': 'Appliances & Equipment', 'Baby foods': 'Groceries', 'Bakery and cereal products (excluding baby food)': 'Groceries', 'Bakery products': 'Groceries', 'Bananas': 'Groceries', 'Bedding and other household textiles': 'Furniture & Home Decor', 'Beer purchased from stores': 'Alcohol & Tobacco', 'Beer served in licensed establishments': 'Alcohol & Tobacco', 'Books and reading material (excluding textbooks)': 'Education & Reading', 'Bread, rolls and buns': 'Groceries', 'Breakfast cereal and other cereal products (excluding baby food)': 'Groceries', 'Butter': 'Groceries', 'Canned and other preserved fish': 'Groceries', 'Canned vegetables and other vegetable preparations': 'Groceries', 'Cereal products (excluding baby food)': 'Groceries', 'Cheese': 'Groceries', 'Child care and housekeeping services': 'Services', 'Child care services': 'Services', \"Children's clothing\": 'Clothing & Footwear', \"Children's footwear (excluding athletic)\": 'Clothing & Footwear', 'Cigarettes': 'Alcohol & Tobacco', 'City bus and subway transportation': 'Transportation', 'Clothing': 'Clothing & Footwear', 'Clothing accessories, watches and jewellery': 'Clothing & Footwear', 'Clothing and footwear': 'Clothing & Footwear', 'Clothing material and notions': 'Clothing & Footwear', 'Clothing material, notions and services': 'Clothing & Footwear', 'Coffee': 'Groceries', 'Coffee and tea': 'Groceries', 'Communications': 'Communication', 'Condiments, spices and vinegars': 'Groceries', 'Confectionery': 'Groceries', 'Cookies and crackers': 'Groceries', 'Cooking appliances': 'Appliances & Equipment', 'Dairy products': 'Groceries', 'Dairy products and eggs': 'Groceries', 'Dental care services': 'Health & Personal Care', 'Detergents and soaps (other than personal care)': 'Household Supplies', 'Digital computing equipment and devices': 'Communication', \"Drivers' licences\": 'Transportation', 'Dry cleaning services': 'Services', 'Durable goods': '???', 'Edible fats and oils': 'Groceries', 'Education': 'Education & Reading', 'Education and reading': 'Education & Reading', 'Eggs': 'Groceries', 'Electricity': 'Energy', 'Energy': 'Housing & Utilities', 'Eye care goods': 'Health & Personal Care', 'Fish': 'Groceries', 'Fish, seafood and other marine products': 'Groceries', 'Flour and flour-based mixes': 'Groceries', 'Food': 'Groceries', 'Food and energy': 'Groceries', 'Food purchased from cafeterias and other restaurants': 'Groceries', 'Food purchased from fast food and take-out restaurants': 'Groceries', 'Food purchased from restaurants': 'Groceries', 'Food purchased from stores': 'Groceries', 'Food purchased from table-service restaurants': 'Groceries', 'Footwear': 'Clothing & Footwear', 'Fresh fruit': 'Groceries', 'Fresh fruit and vegetables': 'Groceries', 'Fresh milk': 'Groceries', 'Fresh or frozen beef': 'Groceries', 'Fresh or frozen chicken': 'Groceries', 'Fresh or frozen fish (including portions and fish sticks)': 'Groceries', 'Fresh or frozen meat (excluding poultry)': 'Groceries', 'Fresh or frozen pork': 'Groceries', 'Fresh or frozen poultry': 'Groceries', 'Fresh vegetables': 'Groceries', 'Frozen and dried vegetables': 'Groceries', 'Frozen food preparations': 'Groceries', 'Fruit juices': 'Groceries', 'Fruit, fruit preparations and nuts': 'Groceries', 'Fuel oil and other fuels': 'Energy', 'Fuel, parts and accessories for recreational vehicles': 'Energy', 'Furniture': 'Furniture & Home Decor', 'Furniture and household textiles': 'Furniture & Home Decor', 'Gasoline': 'Energy', 'Goods': '???', 'Goods and services': 'Services', 'Goods excluding food purchased from stores': 'Groceries', 'Goods excluding food purchased from stores and energy': 'Groceries', 'Ham and bacon': 'Groceries', 'Health and personal care': 'Health & Personal Care', 'Health care': 'Health & Personal Care', 'Health care goods': 'Health & Personal Care', 'Health care services': 'Health & Personal Care', 'Home entertainment equipment, parts and services': 'Appliances & Equipment', \"Homeowners' home and mortgage insurance\": 'Housing, Rent, Tax  & Insurance', \"Homeowners' maintenance and repairs\": 'Housing, Rent, Tax  & Insurance', \"Homeowners' replacement cost\": 'Housing, Rent, Tax  & Insurance', 'Household appliances': 'Appliances & Equipment', 'Household cleaning products': 'Household Supplies', 'Household equipment': 'Appliances & Equipment', 'Household furnishings and equipment': 'Furniture & Home Decor', 'Household operations': '???', 'Household operations, furnishings and equipment': '???', 'Household textiles': 'Household Supplies', 'Household tools (including lawn, garden and snow removal equipment)': 'Appliances & Equipment', 'Housekeeping services': 'Services', 'Housing (1986 definition)': '???', 'Ice cream and related products': 'Groceries', 'Insurance, licences and other services for recreational vehicles': 'Transportation', 'Inter-city transportation': 'Transportation', 'Jewellery': 'Clothing & Footwear', 'Laundry and dishwashing appliances': 'Appliances & Equipment', 'Laundry services': 'Services', 'Leasing of passenger vehicles': 'Vehicles', 'Leather clothing accessories': 'Clothing & Footwear', 'Lettuce': 'Groceries', 'Liquor purchased from stores': 'Alcohol & Tobacco', 'Liquor served in licensed establishments': 'Alcohol & Tobacco', 'Local and commuter transportation': 'Transportation', 'Magazines and periodicals': 'Education & Reading', 'Margarine': 'Groceries', 'Meat': 'Groceries', 'Medicinal and pharmaceutical products': 'Health & Personal Care', \"Men's clothing\": 'Clothing & Footwear', \"Men's footwear (excluding athletic)\": 'Clothing & Footwear', 'Mortgage interest cost': 'Housing, Rent, Tax  & Insurance', 'Natural gas': 'Energy', 'Newspapers': 'Education & Reading', 'Non-alcoholic beverages': 'Groceries', 'Non-durable goods': '???', 'Non-durable goods excluding food purchased from stores': 'Groceries', 'Non-durable goods excluding food purchased from stores and energy': 'Groceries', 'Non-electric kitchen utensils, tableware and cookware': 'Household Supplies', 'Non-prescribed medicines': 'Health & Personal Care', 'Nuts and seeds': 'Groceries', 'Operation of passenger vehicles': 'Transportation', 'Operation of recreational vehicles': 'Transportation', 'Oral-hygiene products': 'Health & Personal Care', 'Oranges': 'Groceries', 'Owned accommodation': 'Housing & Utilities', 'Paper supplies': 'Household Supplies', 'Paper, plastic and aluminum foil supplies': '???', 'Parking fees': 'Transportation', 'Passenger vehicle insurance premiums': 'Transportation', 'Passenger vehicle maintenance and repair services': 'Vehicles', 'Passenger vehicle parts, accessories and supplies': 'Vehicles', 'Passenger vehicle parts, maintenance and repairs': 'Vehicles', 'Passenger vehicle registration fees': 'Transportation', 'Pasta products': 'Groceries', 'Personal care': 'Health & Personal Care', 'Personal care services': 'Health & Personal Care', 'Personal care supplies and equipment': 'Health & Personal Care', 'Personal soap': 'Health & Personal Care', 'Pet food and supplies': 'Groceries', 'Photographic equipment and supplies': 'Appliances & Equipment', 'Plastic and aluminum foil supplies': 'Household Supplies', 'Postal and other communications services': 'Communication', 'Potatoes': 'Groceries', 'Prescribed medicines (excluding medicinal cannabis)': 'Health & Personal Care', 'Preserved fruit and fruit preparations': 'Groceries', 'Preserved vegetables and vegetable preparations': 'Groceries', 'Private transportation': 'Transportation', 'Private transportation excluding gasoline': 'Transportation', 'Processed meat': 'Groceries', 'Products and product groups': '???', 'Property taxes and other special charges': 'Housing, Rent, Tax  & Insurance', 'Public transportation': 'Transportation', 'Purchase and leasing of passenger vehicles': 'Vehicles', 'Purchase and operation of recreational vehicles': 'Vehicles', 'Purchase of digital media': 'Recreation & Entertainment', 'Purchase of passenger vehicles': 'Vehicles', 'Purchase of recreational vehicles and outboard motors': 'Vehicles', 'Purchase, leasing and rental of passenger vehicles': 'Vehicles', 'Rail, highway bus and other inter-city transportation': 'Transportation', 'Reading material (excluding textbooks)': 'Education & Reading', 'Recreation': 'Recreation & Entertainment', 'Recreation, education and reading': 'Education & Reading', 'Recreational equipment and services (excluding recreational vehicles)': 'Vehicles', 'Recreational services': 'Recreation & Entertainment', 'Refrigerators and freezers': 'Appliances & Equipment', 'Rent': 'Housing, Rent, Tax  & Insurance', 'Rental of passenger vehicles': 'Transportation', 'Rented accommodation': 'Housing, Rent, Tax  & Insurance', 'Rice and rice-based mixes': 'Groceries', 'School textbooks and supplies': 'Education & Reading', 'Seafood and other marine products': 'Groceries', 'Seeds, plants and cut flowers': 'Gardening', 'Semi-durable goods': '???', 'Services': 'Services', 'Services excluding shelter services': 'Housing, Rent, Tax  & Insurance', 'Services related to household furnishings and equipment': 'Furniture & Home Decor', 'Shelter': 'Housing, Rent, Tax  & Insurance', 'Shelter (1986 definition)': 'Housing, Rent, Tax  & Insurance', 'Soup': 'Groceries', 'Spectator entertainment (excluding video and audio subscription services)': 'Recreation & Entertainment', 'Sporting and exercise equipment': 'Appliances & Equipment', 'Sugar and confectionery': 'Groceries', 'Sugar and syrup': 'Groceries', 'Taxi and other local and commuter transportation services': 'Transportation', 'Tea': 'Groceries', 'Telephone services': 'Communication', \"Tenants' insurance premiums\": 'Housing & Utilities', \"Tenants' maintenance, repairs and other expenses\": 'Housing, Rent, Tax  & Insurance', \"Tobacco products and smokers' supplies\": 'Alcohol & Tobacco', 'Toiletry items and cosmetics': 'Health & Personal Care', 'Tomatoes': 'Groceries', 'Tools and other household equipment': 'Appliances & Equipment', 'Toys, games (excluding video games) and hobby supplies': 'Appliances & Equipment', 'Transportation': 'Transportation', 'Travel services': 'Recreation & Entertainment', 'Travel tours': 'Recreation & Entertainment', 'Traveller accommodation': 'Recreation & Entertainment', 'Tuition fees': 'Education & Reading', 'Upholstered furniture': 'Furniture & Home Decor', 'Use of recreational facilities and services': 'Recreation & Entertainment', 'Vegetables and vegetable preparations': 'Groceries', 'Video and audio subscription services': 'Recreation & Entertainment', 'Video equipment': 'Appliances & Equipment', 'Watches': 'Clothing & Footwear', 'Water': 'Utilities', 'Water, fuel and electricity': 'Energy', 'Window coverings': 'Furniture & Home Decor', 'Wine purchased from stores': 'Alcohol & Tobacco', 'Wine served in licensed establishments': 'Alcohol & Tobacco', \"Women's clothing\": 'Clothing & Footwear', \"Women's footwear (excluding athletic)\": 'Clothing & Footwear', 'Wooden furniture': 'Furniture & Home Decor'}\n"
     ]
    }
   ],
   "source": [
    "print(dict_CAN)\n",
    "\n",
    "df_Canada_CPI['Category'] = df_Canada_CPI['Products and product groups'].map(dict_CAN)\n"
   ]
  },
  {
   "cell_type": "code",
   "execution_count": 17,
   "metadata": {},
   "outputs": [
    {
     "data": {
      "text/html": [
       "<div>\n",
       "<style scoped>\n",
       "    .dataframe tbody tr th:only-of-type {\n",
       "        vertical-align: middle;\n",
       "    }\n",
       "\n",
       "    .dataframe tbody tr th {\n",
       "        vertical-align: top;\n",
       "    }\n",
       "\n",
       "    .dataframe thead th {\n",
       "        text-align: right;\n",
       "    }\n",
       "</style>\n",
       "<table border=\"1\" class=\"dataframe\">\n",
       "  <thead>\n",
       "    <tr style=\"text-align: right;\">\n",
       "      <th></th>\n",
       "      <th>Products and product groups</th>\n",
       "      <th>REF_DATE</th>\n",
       "      <th>VALUE</th>\n",
       "      <th>Category</th>\n",
       "    </tr>\n",
       "  </thead>\n",
       "  <tbody>\n",
       "    <tr>\n",
       "      <th>0</th>\n",
       "      <td>Air transportation</td>\n",
       "      <td>2017-01-01</td>\n",
       "      <td>134.8</td>\n",
       "      <td>Transportation</td>\n",
       "    </tr>\n",
       "    <tr>\n",
       "      <th>1</th>\n",
       "      <td>Air transportation</td>\n",
       "      <td>2017-02-01</td>\n",
       "      <td>135.2</td>\n",
       "      <td>Transportation</td>\n",
       "    </tr>\n",
       "    <tr>\n",
       "      <th>2</th>\n",
       "      <td>Air transportation</td>\n",
       "      <td>2017-03-01</td>\n",
       "      <td>133.7</td>\n",
       "      <td>Transportation</td>\n",
       "    </tr>\n",
       "    <tr>\n",
       "      <th>3</th>\n",
       "      <td>Air transportation</td>\n",
       "      <td>2017-04-01</td>\n",
       "      <td>134.7</td>\n",
       "      <td>Transportation</td>\n",
       "    </tr>\n",
       "    <tr>\n",
       "      <th>4</th>\n",
       "      <td>Air transportation</td>\n",
       "      <td>2017-05-01</td>\n",
       "      <td>139.4</td>\n",
       "      <td>Transportation</td>\n",
       "    </tr>\n",
       "  </tbody>\n",
       "</table>\n",
       "</div>"
      ],
      "text/plain": [
       "  Products and product groups    REF_DATE  VALUE        Category\n",
       "0          Air transportation  2017-01-01  134.8  Transportation\n",
       "1          Air transportation  2017-02-01  135.2  Transportation\n",
       "2          Air transportation  2017-03-01  133.7  Transportation\n",
       "3          Air transportation  2017-04-01  134.7  Transportation\n",
       "4          Air transportation  2017-05-01  139.4  Transportation"
      ]
     },
     "execution_count": 17,
     "metadata": {},
     "output_type": "execute_result"
    }
   ],
   "source": [
    "df_Canada_CPI.head()"
   ]
  },
  {
   "cell_type": "code",
   "execution_count": 22,
   "metadata": {},
   "outputs": [],
   "source": [
    "df_Canada_CPI_Cat = df_Canada_CPI.copy().drop(columns = ['Products and product groups'])\n",
    "\n",
    "\n",
    "\n",
    "df_Canada_CPI_groupby = df_Canada_CPI_Cat.groupby(['REF_DATE', 'Category']).mean().reset_index()"
   ]
  },
  {
   "cell_type": "code",
   "execution_count": 23,
   "metadata": {},
   "outputs": [
    {
     "data": {
      "text/html": [
       "<div>\n",
       "<style scoped>\n",
       "    .dataframe tbody tr th:only-of-type {\n",
       "        vertical-align: middle;\n",
       "    }\n",
       "\n",
       "    .dataframe tbody tr th {\n",
       "        vertical-align: top;\n",
       "    }\n",
       "\n",
       "    .dataframe thead th {\n",
       "        text-align: right;\n",
       "    }\n",
       "</style>\n",
       "<table border=\"1\" class=\"dataframe\">\n",
       "  <thead>\n",
       "    <tr style=\"text-align: right;\">\n",
       "      <th></th>\n",
       "      <th>REF_DATE</th>\n",
       "      <th>Category</th>\n",
       "      <th>VALUE</th>\n",
       "    </tr>\n",
       "  </thead>\n",
       "  <tbody>\n",
       "    <tr>\n",
       "      <th>0</th>\n",
       "      <td>2017-01-01</td>\n",
       "      <td>???</td>\n",
       "      <td>121.510577</td>\n",
       "    </tr>\n",
       "    <tr>\n",
       "      <th>1</th>\n",
       "      <td>2017-01-01</td>\n",
       "      <td>Alcohol &amp; Tobacco</td>\n",
       "      <td>147.250641</td>\n",
       "    </tr>\n",
       "    <tr>\n",
       "      <th>2</th>\n",
       "      <td>2017-01-01</td>\n",
       "      <td>Appliances &amp; Equipment</td>\n",
       "      <td>73.694675</td>\n",
       "    </tr>\n",
       "    <tr>\n",
       "      <th>3</th>\n",
       "      <td>2017-01-01</td>\n",
       "      <td>Clothing &amp; Footwear</td>\n",
       "      <td>105.696154</td>\n",
       "    </tr>\n",
       "    <tr>\n",
       "      <th>4</th>\n",
       "      <td>2017-01-01</td>\n",
       "      <td>Communication</td>\n",
       "      <td>114.513462</td>\n",
       "    </tr>\n",
       "  </tbody>\n",
       "</table>\n",
       "</div>"
      ],
      "text/plain": [
       "     REF_DATE                Category       VALUE\n",
       "0  2017-01-01                     ???  121.510577\n",
       "1  2017-01-01       Alcohol & Tobacco  147.250641\n",
       "2  2017-01-01  Appliances & Equipment   73.694675\n",
       "3  2017-01-01     Clothing & Footwear  105.696154\n",
       "4  2017-01-01           Communication  114.513462"
      ]
     },
     "execution_count": 23,
     "metadata": {},
     "output_type": "execute_result"
    }
   ],
   "source": [
    "df_Canada_CPI_groupby.head()"
   ]
  },
  {
   "cell_type": "code",
   "execution_count": 25,
   "metadata": {},
   "outputs": [
    {
     "name": "stdout",
     "output_type": "stream",
     "text": [
      "???\n",
      "Alcohol & Tobacco\n",
      "Appliances & Equipment\n",
      "Clothing & Footwear\n",
      "Communication\n",
      "Education & Reading\n",
      "Energy\n",
      "Furniture & Home Decor\n",
      "Gardening\n",
      "Groceries\n",
      "Health & Personal Care\n",
      "Household Supplies\n",
      "Housing & Utilities\n",
      "Housing, Rent, Tax  & Insurance\n",
      "Recreation & Entertainment\n",
      "Services\n",
      "Transportation\n",
      "Utilities\n",
      "Vehicles\n"
     ]
    }
   ],
   "source": [
    "for column in df_Canada_CPI_groupby['Category'].unique():\n",
    "    print(column)"
   ]
  },
  {
   "cell_type": "code",
   "execution_count": null,
   "metadata": {},
   "outputs": [],
   "source": []
  }
 ],
 "metadata": {
  "kernelspec": {
   "display_name": "Python 3",
   "language": "python",
   "name": "python3"
  },
  "language_info": {
   "codemirror_mode": {
    "name": "ipython",
    "version": 3
   },
   "file_extension": ".py",
   "mimetype": "text/x-python",
   "name": "python",
   "nbconvert_exporter": "python",
   "pygments_lexer": "ipython3",
   "version": "3.9.6"
  }
 },
 "nbformat": 4,
 "nbformat_minor": 2
}
