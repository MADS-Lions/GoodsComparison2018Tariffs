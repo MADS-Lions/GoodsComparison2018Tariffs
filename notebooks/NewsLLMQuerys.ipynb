{
 "cells": [
  {
   "cell_type": "code",
   "execution_count": 1,
   "metadata": {},
   "outputs": [],
   "source": [
    "\n",
    "\n",
    "\n",
    "\n",
    "\n",
    "\n",
    "\n",
    "\n",
    "    \n"
   ]
  },
  {
   "cell_type": "code",
   "execution_count": 1,
   "metadata": {},
   "outputs": [
    {
     "name": "stderr",
     "output_type": "stream",
     "text": [
      "USER_AGENT environment variable not set, consider setting it to identify your requests.\n"
     ]
    }
   ],
   "source": [
    "\n",
    "\n",
    "\n",
    "import pandas as pd\n",
    "\n",
    "import importlib\n",
    "import sys\n",
    "sys.path.append('../src')\n",
    "importlib.reload(sys)\n",
    "from models import work_flow\n",
    "\n",
    "\n",
    "\n",
    "\n"
   ]
  },
  {
   "cell_type": "code",
   "execution_count": 4,
   "metadata": {},
   "outputs": [
    {
     "name": "stdout",
     "output_type": "stream",
     "text": [
      "Initial message: content='System: You are a helpful AI that answers questions about the news related to the 2018 tariffs that impacted inflation of goods and services in Canada and USA. Use the tools at your disposal to look up news articles or data from the CPI goods and services for Canada and US as a surrogate inflation to help support your answer.\\n\\nQuestion: Which itemset from the CPI dataset was most inflated due to tariffs in 2018 for Canada?' additional_kwargs={} response_metadata={}\n",
      "Which itemset from the CPI dataset was most inflated due to tariffs in 2018 for Canada?\n",
      "Workflow result: ['  The itemset from the CPI dataset that was most inflated due to tariffs in 2018', 'for Canada was the \"Food\" itemset.']\n"
     ]
    }
   ],
   "source": [
    "try:\n",
    "    result = work_flow(\"Which itemset from the CPI dataset was most inflated due to tariffs in 2018 for Canada?\")\n",
    "    print(\"Workflow result:\", result)\n",
    "except Exception as e:\n",
    "    print(\"An error occurred:\", str(e))\n",
    "    import traceback\n",
    "    traceback.print_exc()\n"
   ]
  },
  {
   "cell_type": "code",
   "execution_count": null,
   "metadata": {},
   "outputs": [],
   "source": []
  },
  {
   "cell_type": "code",
   "execution_count": null,
   "metadata": {},
   "outputs": [],
   "source": [
    " "
   ]
  },
  {
   "cell_type": "code",
   "execution_count": null,
   "metadata": {},
   "outputs": [],
   "source": []
  },
  {
   "cell_type": "code",
   "execution_count": null,
   "metadata": {},
   "outputs": [],
   "source": [
    "\n"
   ]
  },
  {
   "cell_type": "code",
   "execution_count": null,
   "metadata": {},
   "outputs": [],
   "source": []
  },
  {
   "cell_type": "code",
   "execution_count": null,
   "metadata": {},
   "outputs": [],
   "source": []
  },
  {
   "cell_type": "code",
   "execution_count": null,
   "metadata": {},
   "outputs": [],
   "source": []
  }
 ],
 "metadata": {
  "kernelspec": {
   "display_name": "Python 3",
   "language": "python",
   "name": "python3"
  },
  "language_info": {
   "codemirror_mode": {
    "name": "ipython",
    "version": 3
   },
   "file_extension": ".py",
   "mimetype": "text/x-python",
   "name": "python",
   "nbconvert_exporter": "python",
   "pygments_lexer": "ipython3",
   "version": "3.9.6"
  }
 },
 "nbformat": 4,
 "nbformat_minor": 2
}
