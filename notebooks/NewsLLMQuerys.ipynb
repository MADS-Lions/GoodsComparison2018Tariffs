{
 "cells": [
  {
   "cell_type": "code",
   "execution_count": 1,
   "metadata": {},
   "outputs": [
    {
     "name": "stdout",
     "output_type": "stream",
     "text": [
      "zsh:1: command not found: aws\n",
      "zsh:1: command not found: aws\n",
      "zsh:1: command not found: aws\n"
     ]
    }
   ],
   "source": [
    "import pandas as pd\n",
    "\n",
    "access_key_id = input()\n",
    "secret_access_key = input()\n",
    "\n",
    "\n",
    "!aws configure set default.aws_access_key_id {access_key_id}\n",
    "!aws configure set default.aws_secret_access_key {secret_access_key}\n",
    "!aws configure set default.region us-west-2"
   ]
  },
  {
   "cell_type": "code",
   "execution_count": null,
   "metadata": {},
   "outputs": [],
   "source": []
  }
 ],
 "metadata": {
  "kernelspec": {
   "display_name": "Python 3",
   "language": "python",
   "name": "python3"
  },
  "language_info": {
   "codemirror_mode": {
    "name": "ipython",
    "version": 3
   },
   "file_extension": ".py",
   "mimetype": "text/x-python",
   "name": "python",
   "nbconvert_exporter": "python",
   "pygments_lexer": "ipython3",
   "version": "3.9.6"
  }
 },
 "nbformat": 4,
 "nbformat_minor": 2
}
