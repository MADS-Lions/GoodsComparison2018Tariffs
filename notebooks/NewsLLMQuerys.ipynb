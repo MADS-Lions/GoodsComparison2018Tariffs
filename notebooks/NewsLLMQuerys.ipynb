{
 "cells": [
  {
   "cell_type": "code",
   "execution_count": null,
   "metadata": {},
   "outputs": [],
   "source": [
    "\n",
    "\n",
    "\n",
    "!aws configure set default.aws_access_key_id {access_key_id}\n",
    "!aws configure set default.aws_secret_access_key {secret_access_key}\n",
    "!aws configure set default.region us-west-2"
   ]
  }
 ],
 "metadata": {
  "language_info": {
   "name": "python"
  }
 },
 "nbformat": 4,
 "nbformat_minor": 2
}
