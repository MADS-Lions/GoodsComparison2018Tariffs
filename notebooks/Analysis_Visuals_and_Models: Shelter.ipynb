{
 "cells": [
  {
   "cell_type": "code",
   "execution_count": 2,
   "metadata": {},
   "outputs": [
    {
     "name": "stdout",
     "output_type": "stream",
     "text": [
      "                                   Product_Service Category\n",
      "0                                    Durable goods      ???\n",
      "1                                            Goods      ???\n",
      "2                             Household operations      ???\n",
      "3  Household operations, furnishings and equipment      ???\n",
      "4                        Housing (1986 definition)      ???\n"
     ]
    },
    {
     "data": {
      "text/html": [
       "<div>\n",
       "<style scoped>\n",
       "    .dataframe tbody tr th:only-of-type {\n",
       "        vertical-align: middle;\n",
       "    }\n",
       "\n",
       "    .dataframe tbody tr th {\n",
       "        vertical-align: top;\n",
       "    }\n",
       "\n",
       "    .dataframe thead th {\n",
       "        text-align: right;\n",
       "    }\n",
       "</style>\n",
       "<table border=\"1\" class=\"dataframe\">\n",
       "  <thead>\n",
       "    <tr style=\"text-align: right;\">\n",
       "      <th></th>\n",
       "      <th>Product_Service</th>\n",
       "      <th>Category</th>\n",
       "    </tr>\n",
       "  </thead>\n",
       "  <tbody>\n",
       "    <tr>\n",
       "      <th>0</th>\n",
       "      <td>Airline fares</td>\n",
       "      <td>Transportation</td>\n",
       "    </tr>\n",
       "    <tr>\n",
       "      <th>1</th>\n",
       "      <td>Alcoholic beverages</td>\n",
       "      <td>Alcohol &amp; Tobacco</td>\n",
       "    </tr>\n",
       "    <tr>\n",
       "      <th>2</th>\n",
       "      <td>Alcoholic beverages at home</td>\n",
       "      <td>Alcohol &amp; Tobacco</td>\n",
       "    </tr>\n",
       "    <tr>\n",
       "      <th>3</th>\n",
       "      <td>All items</td>\n",
       "      <td>Uncategorized</td>\n",
       "    </tr>\n",
       "    <tr>\n",
       "      <th>4</th>\n",
       "      <td>All items less energy</td>\n",
       "      <td>Energy</td>\n",
       "    </tr>\n",
       "  </tbody>\n",
       "</table>\n",
       "</div>"
      ],
      "text/plain": [
       "               Product_Service           Category\n",
       "0                Airline fares     Transportation\n",
       "1          Alcoholic beverages  Alcohol & Tobacco\n",
       "2  Alcoholic beverages at home  Alcohol & Tobacco\n",
       "3                    All items      Uncategorized\n",
       "4        All items less energy             Energy"
      ]
     },
     "execution_count": 2,
     "metadata": {},
     "output_type": "execute_result"
    }
   ],
   "source": [
    "import pandas as pd\n",
    "from sklearn.preprocessing import StandardScaler\n",
    "import sys\n",
    "import altair as alt\n",
    "sys.path.append('../src')\n",
    "from models import plot_structure, plot_supply_and_demand, regression_discontinuity_model, differences_differences, plot_for_parallel_trends \n",
    "\n",
    "#categories for products and services gotten by LLMs\n",
    "df_model_data_CAN = pd.read_csv('../data/processed/CAN_Categorized_Products_and_Services_NEW.csv')\n",
    "df_model_data_USA = pd.read_csv('../data/processed/US_Categorized_Products_and_Services_NEW.csv')\n",
    "\n",
    "#CPI data for Canada and USA to analyze grocery and clothing and footwear inflation\n",
    "df_Canada_CPI = pd.read_csv('../data/processed/Canada_CPI_Processed_2018_2019.csv')\n",
    "df_USA_CPI = pd.read_csv('../data/processed/USA_CPI_Processed_2018_2019.csv')\n",
    "\n",
    "print(df_model_data_CAN.head())\n",
    "df_model_data_USA.head()"
   ]
  },
  {
   "cell_type": "code",
   "execution_count": 3,
   "metadata": {},
   "outputs": [],
   "source": [
    "\n",
    "#standardize and get scaled and non-scaled data for CPI data\n",
    "df_USA_CPI_melt = pd.melt(df_USA_CPI, var_name = 'Products and product groups',value_name = 'VALUE', id_vars = 'REF_DATE')\n",
    "\n",
    "df_Canada_CPI_Scaled = df_Canada_CPI.copy()\n",
    "df_Canada_CPI_NonScaled = df_Canada_CPI.copy()\n",
    "\n",
    "df_USA_CPI_Scaled = df_USA_CPI_melt.copy()\n",
    "df_USA_CPI_NonScaled = df_USA_CPI_melt.copy()\n",
    "for unique_product in df_Canada_CPI_Scaled['Products and product groups'].unique():\n",
    "    stan_scale = StandardScaler()\n",
    "    mask = df_Canada_CPI_Scaled['Products and product groups']==unique_product\n",
    "    df_Canada_CPI_Scaled.loc[mask, \"VALUE\"] = stan_scale.fit_transform(df_Canada_CPI_Scaled.loc[mask, \"VALUE\"].values[:, None]).flatten()\n",
    "for unique_product in df_USA_CPI_Scaled['Products and product groups'].unique():\n",
    "    stan_scale = StandardScaler()\n",
    "    mask = df_USA_CPI_Scaled['Products and product groups']==unique_product\n",
    "    df_USA_CPI_Scaled.loc[mask, \"VALUE\"] = stan_scale.fit_transform(df_USA_CPI_Scaled.loc[mask, \"VALUE\"].values[:, None]).flatten()"
   ]
  },
  {
   "cell_type": "code",
   "execution_count": null,
   "metadata": {},
   "outputs": [],
   "source": [
    "#Canada and US datasets scaled and non-scaled and make category columns\n",
    "dict_CAN = df_model_data_CAN.drop_duplicates(subset=['Product_Service']).set_index('Product_Service')['Category'].to_dict()\n",
    "dict_USA = df_model_data_USA.drop_duplicates(subset=['Product_Service']).set_index('Product_Service')['Category'].to_dict()\n",
    "\n",
    "df_Canada_CPI_Scaled['Category'] = df_Canada_CPI['Products and product groups'].map(dict_CAN)\n",
    "df_Canada_CPI_NonScaled['Category'] = df_Canada_CPI['Products and product groups'].map(dict_CAN)\n",
    "df_USA_CPI_Scaled['Category'] = df_USA_CPI_Scaled['Products and product groups'].map(dict_USA)\n",
    "df_USA_CPI_NonScaled['Category'] = df_USA_CPI_NonScaled['Products and product groups'].map(dict_USA)\n"
   ]
  },
  {
   "cell_type": "code",
   "execution_count": null,
   "metadata": {},
   "outputs": [],
   "source": [
    "#make groupby dataframe get median of each category\n",
    "df_Canada_CPI_Cat = df_Canada_CPI_Scaled.copy().drop(columns = ['Products and product groups'])\n",
    "df_Canada_CPI_groupby = df_Canada_CPI_Cat.groupby(['REF_DATE', 'Category']).median().reset_index()\n",
    "\n",
    "df_Canada_CPI_Cat_NonScaled = df_Canada_CPI_NonScaled.copy().drop(columns = ['Products and product groups'])\n",
    "df_Canada_CPI_groupby_NonScaled = df_Canada_CPI_Cat_NonScaled.groupby(['REF_DATE', 'Category']).median().reset_index()\n",
    "\n",
    "df_USA_CPI_Cat = df_USA_CPI_Scaled.copy().drop(columns = ['Products and product groups'])\n",
    "df_USA_CPI_groupby = df_USA_CPI_Cat.groupby(['REF_DATE', 'Category']).median().reset_index()\n",
    "\n",
    "df_USA_CPI_Cat_NonScaled = df_USA_CPI_NonScaled.copy().drop(columns = ['Products and product groups'])\n",
    "df_USA_CPI_groupby_NonScaled = df_USA_CPI_Cat_NonScaled.groupby(['REF_DATE', 'Category']).median().reset_index()"
   ]
  },
  {
   "cell_type": "code",
   "execution_count": null,
   "metadata": {},
   "outputs": [],
   "source": [
    "#look at all potential categories\n",
    "for column in df_Canada_CPI_groupby['Category'].unique():\n",
    "    print(column)"
   ]
  },
  {
   "cell_type": "code",
   "execution_count": null,
   "metadata": {},
   "outputs": [],
   "source": [
    "#look at plot groceries which was more impacted and compare to housing, rent, tax and insurance which was less impacted by tariffs\n",
    "plot_for_parallel_trends(df_Canada_CPI_groupby, '2018-01-01', '2018-11-01', 'Shelter', 'Education & Reading')"
   ]
  },
  {
   "cell_type": "code",
   "execution_count": null,
   "metadata": {},
   "outputs": [],
   "source": [
    "#look at china tariffs for differences in differences to get a better idea for one month\n",
    "differences_differences(df_Canada_CPI_groupby, 'Shelter', 'Education & Reading', '2018-07-01', '2018-09-01', '2018-08-01')"
   ]
  },
  {
   "cell_type": "code",
   "execution_count": null,
   "metadata": {},
   "outputs": [],
   "source": [
    "#It seems like the groupby shows some interaction \n",
    "#let us investigate into specific grocery categories to see which groceries may have been impacted by the tariffs"
   ]
  },
  {
   "cell_type": "code",
   "execution_count": null,
   "metadata": {},
   "outputs": [],
   "source": [
    "\n",
    "grocery_items = df_Canada_CPI_NonScaled[(df_Canada_CPI_NonScaled['Category'] == 'Shelter')]['Products and product groups'].unique()\n",
    "\n",
    "grocery_dataframe = df_Canada_CPI_NonScaled[(df_Canada_CPI_NonScaled['Category'] == 'Shelter') | (df_Canada_CPI_NonScaled['Category'] == 'Education & Reading')]\n",
    "\n",
    "\n",
    "dict_grocery = food_categories = {\n",
    "    \"Homeowners' home and mortgage insurance\": 'Owned accommodation',\n",
    "    \"Homeowners' maintenance and repairs\": 'Owned accommodation',\n",
    "    \"Homeowners' replacement cost\": 'Owned accommodation',\n",
    "    \"Mortgage interest cost\": 'Owned accommodation',\n",
    "    \"Other owned accommodation expenses\": 'Owned accommodation',\n",
    "    \"Property taxes and other special charges\": 'Owned accommodation',\n",
    "    \"Rent\": 'Rented accommodation',\n",
    "    \"Tenants' insurance premiums\": 'Rented accommodation',\n",
    "    \"Tenants' maintenance, repairs and other expenses\": 'Rented accommodation',\n",
    "    \"Electricity\": 'Water, fuel and electricity',\n",
    "    \"Fuel oil and other fuels\": 'Water, fuel and electricity',\n",
    "    \"Natural gas\": 'Water, fuel and electricity',\n",
    "    \"Water\": 'Water, fuel and electricity',\n",
    "    'Books and reading material (excluding textbooks)':'Books, Magazines & Newspaper',\n",
    "    'Education':'Education',\t\t\t\t\t\n",
    "    'Education and reading':'Education',\t\t\t\t\n",
    "    'Magazines and periodicals':'Books, Magazines & Newspaper',\t\t\t\n",
    "    'Newspapers':'Books, Magazines & Newspaper',\t\t\t\t\t\n",
    "    'Reading material (excluding textbooks)':'Books, Magazines & Newspaper',\t\t\n",
    "    'Recreation, education and reading':'Education',\t\t\n",
    "    'School textbooks and supplies':'Books, Magazines & Newspaper',\t\t\t\n",
    "    'Tuition fees':'Education'\n",
    "}\n",
    "\n",
    "dict_grocery_US= {\n",
    "    'Owned accommodation': [\n",
    "        'Fuels and utilities', 'Household energy', 'Housing', 'Housing at school, excluding board',\n",
    "        \"Owners' equivalent rent of primary residence\", \"Owners' equivalent rent of residences\"\n",
    "    ],\n",
    "    'Rented accommodation': [\n",
    "        'Rent of primary residence', 'Rent of shelter', 'Services less rent of shelter'\n",
    "    ],\n",
    "    'Water, fuel and electricity': [\n",
    "        'Utility (piped) gas service', 'Water and sewer and trash collection services','Water and sewerage maintenance'\n",
    "    ]\n",
    "}\n",
    "\n",
    "\n",
    "US_grocery_dataset = df_USA_CPI_NonScaled[(df_USA_CPI_NonScaled['Category'] == 'Shelter') | (df_USA_CPI_NonScaled['Category'] == 'Education & Reading')]\n",
    "\n",
    "print(US_grocery_dataset['Products and product groups'].unique())\n",
    "\n",
    "US_grocery_dataset['Category'] = US_grocery_dataset['Category'].map(dict_grocery_US)\n",
    "\n"
   ]
  },
  {
   "cell_type": "code",
   "execution_count": null,
   "metadata": {},
   "outputs": [],
   "source": [
    "#make grocery categories within the grocery category dataframe\n",
    "grocery_dataframe['Category'] = grocery_dataframe['Products and product groups'].map(dict_grocery)\n",
    "\n",
    "grocery_dataframe.drop(columns = ['Products and product groups'], inplace=True)\n",
    "print(grocery_dataframe['Category'].unique())\n",
    "grocery_dataframe_groupby = grocery_dataframe.groupby(['REF_DATE', 'Category']).mean().reset_index()"
   ]
  },
  {
   "cell_type": "code",
   "execution_count": null,
   "metadata": {},
   "outputs": [],
   "source": [
    "model_Canada_RC_groceries_first_tariff, _, _, _ = regression_discontinuity_model(df_Canada_CPI_groupby, 'Shelter', '2017-10-01', '2018-06-01', '2018-03-01', '2018-04-01')"
   ]
  },
  {
   "cell_type": "code",
   "execution_count": null,
   "metadata": {},
   "outputs": [],
   "source": [
    "\n",
    "model_Canada_RC_groceries_first_tariff.summary()"
   ]
  },
  {
   "cell_type": "code",
   "execution_count": null,
   "metadata": {},
   "outputs": [],
   "source": [
    "model_Canada_RC_groceries_second_tariff, _, _, _ = regression_discontinuity_model(df_Canada_CPI_groupby, 'Shelter', '2018-05-01', '2018-12-01', '2018-07-01', '2018-10-01')"
   ]
  },
  {
   "cell_type": "code",
   "execution_count": null,
   "metadata": {},
   "outputs": [],
   "source": [
    "model_Canada_RC_groceries_second_tariff.summary()"
   ]
  },
  {
   "cell_type": "code",
   "execution_count": null,
   "metadata": {},
   "outputs": [],
   "source": [
    "first_tariff_vs_second_tariff, _, _, _ = regression_discontinuity_model(df_Canada_CPI_groupby, 'Shelter', '2017-10-01', '2018-12-01', '2018-05-01')\n",
    "\n",
    "first_tariff_vs_second_tariff.summary()"
   ]
  },
  {
   "cell_type": "code",
   "execution_count": null,
   "metadata": {},
   "outputs": [],
   "source": [
    "#it seems like american tariffs had little immediate impact on Canadian grocery retailers when looking at manufacturing even the only month affected was the China tariffs in August as mentioned supply was still high - it is hard to disentangle the impact of the tariffs and the news so perhaps we should look for a more long term approach to gain more insight to what happened with groceries\n",
    "\n",
    "\n",
    "Canada_parallel_trends_groceries = plot_for_parallel_trends(df_Canada_CPI_groupby, '2017-01-01', '2019-10-01', 'Shelter', 'Education & Reading')\n",
    "\n"
   ]
  },
  {
   "cell_type": "code",
   "execution_count": null,
   "metadata": {},
   "outputs": [],
   "source": [
    "#it is hard to quantify the impact of groceries based on specific tariffs due to the serial correlation of tariffs but looking from the start of the breakdown in China talks to the Chinese hike tax we will look at RD between these periods and see if we can draw conclusions\n",
    "#there does seem to be greater variance from the start of the Intellectual Property Trials to the Chinese hike in tariffs that started propagating like a wave with each tariff with minimal activity following the results of the IP investigation - let us investigate further\n",
    "model_groceries_longterm_IP, _, _, _ = regression_discontinuity_model(df_Canada_CPI_groupby, 'Shelter', '2017-01-01', '2018-04-01', '2017-08-01', heteroskedasticity = 'nonrobust')\n",
    "\n",
    "model_groceries_longterm_IP.summary()"
   ]
  },
  {
   "cell_type": "code",
   "execution_count": null,
   "metadata": {},
   "outputs": [],
   "source": [
    "#Next lets compare with RD the tariff / IP trails period to the Chinese hike in tariffs\n",
    "model_groceries_longterm_recovery, _, _, _ = regression_discontinuity_model(df_Canada_CPI_groupby, 'Shelter', '2018-02-01', '2019-05-01', '2018-11-01', '2019-01-01')\n",
    "\n",
    "print(model_groceries_longterm_recovery.summary())\n",
    "\n"
   ]
  },
  {
   "cell_type": "code",
   "execution_count": null,
   "metadata": {},
   "outputs": [],
   "source": [
    "#let us look at what happened in American groceries due to the tariffs and compare the effect of the tariffs on groceries for US tariffs vs Canadian tariffs\n",
    "#they appear to have a similar effect on American goods\n",
    "\n",
    "plot_structure(df_USA_CPI_groupby, 'Shelter', '2017-01-01', '2020-02-01')\n",
    "\n"
   ]
  },
  {
   "cell_type": "code",
   "execution_count": null,
   "metadata": {},
   "outputs": [],
   "source": [
    "#It appears that the American grocery dataset follows the Canadian with waves except the breakdown in china talks led to a decrease in inflation for Canadian groceries but an increase for American groceries\n",
    "# We will look at the IP investigation later but it appears trumps tariffs on Canadian goods had only a small impact on American groceries but the combination of Canadian announcement of tariffs, canadian tariffs and chinese tariffs on American exported goods may have had a larger impact, let us investigate further\n",
    "model_USA_RC_grocery_cutoff_first_tariff, _, _, _ = regression_discontinuity_model(df_USA_CPI_groupby, 'Shelter', '2017-10-01', '2018-06-01', '2018-03-01', '2018-04-01')\n",
    "\n",
    "print(model_USA_RC_grocery_cutoff_first_tariff.summary())\n",
    "model_USA_RC_grocery_cutoff_second_tariff, _, _, _= regression_discontinuity_model(df_USA_CPI_groupby, 'Shelter', '2018-05-01', '2018-12-01', '2018-07-01', '2018-10-01')\n",
    "\n",
    "print(model_USA_RC_grocery_cutoff_second_tariff.summary())\n",
    "\n",
    "model_longterm_impact_groceries, _, _, _ = regression_discontinuity_model(df_USA_CPI_groupby, 'Shelter', '2017-10-01', '2019-12-01', '2018-02-01', '2018-04-01')\n",
    "\n",
    "print(model_longterm_impact_groceries.summary())\n",
    "\n"
   ]
  },
  {
   "cell_type": "code",
   "execution_count": null,
   "metadata": {},
   "outputs": [],
   "source": [
    "print(df_USA_CPI_groupby['Category'].unique())\n",
    "USA_parallel_trends_groceries = plot_for_parallel_trends(df_USA_CPI_groupby, '2017-01-01', '2019-12-01', 'Shelter', 'Education & Reading', category_3 = None)\n",
    "\n",
    "USA_parallel_trends_groceries"
   ]
  },
  {
   "cell_type": "code",
   "execution_count": null,
   "metadata": {},
   "outputs": [],
   "source": [
    "differences_differences(df_USA_CPI_Scaled, 'Shelter', 'Education & Reading', '2018-03-01', '2018-05-01', '2018-04-01')"
   ]
  },
  {
   "cell_type": "code",
   "execution_count": null,
   "metadata": {},
   "outputs": [],
   "source": [
    "differences_differences(df_USA_CPI_groupby, 'Shelter', 'Education & Reading', '2018-03-01', '2018-05-01', '2018-04-01')"
   ]
  },
  {
   "cell_type": "code",
   "execution_count": null,
   "metadata": {},
   "outputs": [],
   "source": []
  }
 ],
 "metadata": {
  "kernelspec": {
   "display_name": "Python 3",
   "language": "python",
   "name": "python3"
  },
  "language_info": {
   "codemirror_mode": {
    "name": "ipython",
    "version": 3
   },
   "file_extension": ".py",
   "mimetype": "text/x-python",
   "name": "python",
   "nbconvert_exporter": "python",
   "pygments_lexer": "ipython3",
   "version": "3.11.9"
  }
 },
 "nbformat": 4,
 "nbformat_minor": 2
}
